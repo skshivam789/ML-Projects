{
  "nbformat": 4,
  "nbformat_minor": 0,
  "metadata": {
    "colab": {
      "name": "Copy of MLInternship.ipynb",
      "provenance": [],
      "collapsed_sections": [
        "N-Z-77SSH9wj",
        "sCcXsetLIVnI",
        "l-R7a1XC2EBS",
        "Vv1vFsqBrUzl",
        "bDcYXu8mxhTF"
      ],
      "toc_visible": true,
      "machine_shape": "hm",
      "mount_file_id": "1fnVxUWfWdPYjLAgiyWTWEuRkedc0NchI",
      "authorship_tag": "ABX9TyNlrXAw/LUID26wygyyz4UD",
      "include_colab_link": true
    },
    "kernelspec": {
      "name": "python3",
      "display_name": "Python 3"
    }
  },
  "cells": [
    {
      "cell_type": "markdown",
      "metadata": {
        "id": "view-in-github",
        "colab_type": "text"
      },
      "source": [
        "<a href=\"https://colab.research.google.com/github/skshivam789/ML-Projects/blob/master/Wine_Classification_From_Review.ipynb\" target=\"_parent\"><img src=\"https://colab.research.google.com/assets/colab-badge.svg\" alt=\"Open In Colab\"/></a>"
      ]
    },
    {
      "cell_type": "markdown",
      "metadata": {
        "id": "N-Z-77SSH9wj",
        "colab_type": "text"
      },
      "source": [
        "# loading data"
      ]
    },
    {
      "cell_type": "code",
      "metadata": {
        "id": "1YFUAKByd7w-",
        "colab_type": "code",
        "outputId": "a5ae59b6-3e99-434c-d27b-4a818a676010",
        "colab": {
          "base_uri": "https://localhost:8080/",
          "height": 34
        }
      },
      "source": [
        "%cd /content/drive/My Drive/"
      ],
      "execution_count": 0,
      "outputs": [
        {
          "output_type": "stream",
          "text": [
            "/content/drive/My Drive\n"
          ],
          "name": "stdout"
        }
      ]
    },
    {
      "cell_type": "code",
      "metadata": {
        "id": "B1d5glRDejpU",
        "colab_type": "code",
        "colab": {}
      },
      "source": [
        "%cp Knight_ML_Assignment.zip /content/"
      ],
      "execution_count": 0,
      "outputs": []
    },
    {
      "cell_type": "code",
      "metadata": {
        "id": "KC8aZw_ffGlH",
        "colab_type": "code",
        "outputId": "4c0572e6-0842-4a65-fc81-a5856d6efa1a",
        "colab": {
          "base_uri": "https://localhost:8080/",
          "height": 34
        }
      },
      "source": [
        "%cd /content/"
      ],
      "execution_count": 0,
      "outputs": [
        {
          "output_type": "stream",
          "text": [
            "/content\n"
          ],
          "name": "stdout"
        }
      ]
    },
    {
      "cell_type": "code",
      "metadata": {
        "id": "dR2Oy3e1fLvo",
        "colab_type": "code",
        "outputId": "6c8e9c1d-d637-4a07-81f8-bc09a34f61a0",
        "colab": {
          "base_uri": "https://localhost:8080/",
          "height": 84
        }
      },
      "source": [
        "! unzip Knight_ML_Assignment.zip"
      ],
      "execution_count": 0,
      "outputs": [
        {
          "output_type": "stream",
          "text": [
            "Archive:  Knight_ML_Assignment.zip\n",
            "   creating: Knight ML Assignment/Data/\n",
            "  inflating: Knight ML Assignment/Data/test.csv  \n",
            "  inflating: Knight ML Assignment/Data/train.csv  \n"
          ],
          "name": "stdout"
        }
      ]
    },
    {
      "cell_type": "code",
      "metadata": {
        "id": "JUbk0EKUfkzt",
        "colab_type": "code",
        "colab": {}
      },
      "source": [
        "# importing necessary packages\n",
        "import numpy as np\n",
        "import pandas as pd\n",
        "import matplotlib.pyplot as plt\n",
        "import seaborn as sns\n",
        "import re\n",
        "import spacy\n",
        "from tqdm import tqdm\n",
        "\n",
        "import warnings\n",
        "warnings.filterwarnings(\"ignore\")"
      ],
      "execution_count": 0,
      "outputs": []
    },
    {
      "cell_type": "code",
      "metadata": {
        "id": "Gt47w5HkfPhW",
        "colab_type": "code",
        "colab": {}
      },
      "source": [
        "data = pd.read_csv('Knight ML Assignment/Data/train.csv')"
      ],
      "execution_count": 0,
      "outputs": []
    },
    {
      "cell_type": "code",
      "metadata": {
        "id": "ahVhh0AZiaAa",
        "colab_type": "code",
        "colab": {}
      },
      "source": [
        "test_data = pd.read_csv('Knight ML Assignment/Data/test.csv')\n"
      ],
      "execution_count": 0,
      "outputs": []
    },
    {
      "cell_type": "markdown",
      "metadata": {
        "id": "sCcXsetLIVnI",
        "colab_type": "text"
      },
      "source": [
        "# Data analysis and Preprocessing"
      ]
    },
    {
      "cell_type": "code",
      "metadata": {
        "id": "FR9bnhG2fi2b",
        "colab_type": "code",
        "outputId": "e82dde7b-1da0-4c3d-db4c-04e3ede48afe",
        "colab": {
          "base_uri": "https://localhost:8080/",
          "height": 521
        }
      },
      "source": [
        "data.head()"
      ],
      "execution_count": 0,
      "outputs": [
        {
          "output_type": "execute_result",
          "data": {
            "text/html": [
              "<div>\n",
              "<style scoped>\n",
              "    .dataframe tbody tr th:only-of-type {\n",
              "        vertical-align: middle;\n",
              "    }\n",
              "\n",
              "    .dataframe tbody tr th {\n",
              "        vertical-align: top;\n",
              "    }\n",
              "\n",
              "    .dataframe thead th {\n",
              "        text-align: right;\n",
              "    }\n",
              "</style>\n",
              "<table border=\"1\" class=\"dataframe\">\n",
              "  <thead>\n",
              "    <tr style=\"text-align: right;\">\n",
              "      <th></th>\n",
              "      <th>user_name</th>\n",
              "      <th>country</th>\n",
              "      <th>review_title</th>\n",
              "      <th>review_description</th>\n",
              "      <th>designation</th>\n",
              "      <th>points</th>\n",
              "      <th>price</th>\n",
              "      <th>province</th>\n",
              "      <th>region_1</th>\n",
              "      <th>region_2</th>\n",
              "      <th>winery</th>\n",
              "      <th>variety</th>\n",
              "    </tr>\n",
              "  </thead>\n",
              "  <tbody>\n",
              "    <tr>\n",
              "      <th>0</th>\n",
              "      <td>NaN</td>\n",
              "      <td>Australia</td>\n",
              "      <td>Andrew Peace 2007 Peace Family Vineyard Chardo...</td>\n",
              "      <td>Classic Chardonnay aromas of apple, pear and h...</td>\n",
              "      <td>Peace Family Vineyard</td>\n",
              "      <td>83</td>\n",
              "      <td>10.0</td>\n",
              "      <td>Australia Other</td>\n",
              "      <td>South Eastern Australia</td>\n",
              "      <td>NaN</td>\n",
              "      <td>Andrew Peace</td>\n",
              "      <td>Chardonnay</td>\n",
              "    </tr>\n",
              "    <tr>\n",
              "      <th>1</th>\n",
              "      <td>@wawinereport</td>\n",
              "      <td>US</td>\n",
              "      <td>North by Northwest 2014 Red (Columbia Valley (...</td>\n",
              "      <td>This wine is near equal parts Syrah and Merlot...</td>\n",
              "      <td>NaN</td>\n",
              "      <td>89</td>\n",
              "      <td>15.0</td>\n",
              "      <td>Washington</td>\n",
              "      <td>Columbia Valley (WA)</td>\n",
              "      <td>Columbia Valley</td>\n",
              "      <td>North by Northwest</td>\n",
              "      <td>Red Blend</td>\n",
              "    </tr>\n",
              "    <tr>\n",
              "      <th>2</th>\n",
              "      <td>NaN</td>\n",
              "      <td>Italy</td>\n",
              "      <td>Renato Ratti 2007 Conca  (Barolo)</td>\n",
              "      <td>Barolo Conca opens with inky dark concentratio...</td>\n",
              "      <td>Conca</td>\n",
              "      <td>94</td>\n",
              "      <td>80.0</td>\n",
              "      <td>Piedmont</td>\n",
              "      <td>Barolo</td>\n",
              "      <td>NaN</td>\n",
              "      <td>Renato Ratti</td>\n",
              "      <td>Nebbiolo</td>\n",
              "    </tr>\n",
              "    <tr>\n",
              "      <th>3</th>\n",
              "      <td>@vossroger</td>\n",
              "      <td>France</td>\n",
              "      <td>Domaine l'Ancienne Cure 2010 L'Abbaye White (B...</td>\n",
              "      <td>It's impressive what a small addition of Sauvi...</td>\n",
              "      <td>L'Abbaye</td>\n",
              "      <td>87</td>\n",
              "      <td>22.0</td>\n",
              "      <td>Southwest France</td>\n",
              "      <td>Bergerac Sec</td>\n",
              "      <td>NaN</td>\n",
              "      <td>Domaine l'Ancienne Cure</td>\n",
              "      <td>Bordeaux-style White Blend</td>\n",
              "    </tr>\n",
              "    <tr>\n",
              "      <th>4</th>\n",
              "      <td>@vossroger</td>\n",
              "      <td>France</td>\n",
              "      <td>Château du Cèdre 2012 Le Cèdre Vintage Malbec ...</td>\n",
              "      <td>This ripe, sweet wine is rich and full of drie...</td>\n",
              "      <td>Le Cèdre Vintage</td>\n",
              "      <td>88</td>\n",
              "      <td>33.0</td>\n",
              "      <td>France Other</td>\n",
              "      <td>Vin de Liqueur</td>\n",
              "      <td>NaN</td>\n",
              "      <td>Château du Cèdre</td>\n",
              "      <td>Malbec</td>\n",
              "    </tr>\n",
              "  </tbody>\n",
              "</table>\n",
              "</div>"
            ],
            "text/plain": [
              "       user_name  ...                     variety\n",
              "0            NaN  ...                  Chardonnay\n",
              "1  @wawinereport  ...                   Red Blend\n",
              "2            NaN  ...                    Nebbiolo\n",
              "3     @vossroger  ...  Bordeaux-style White Blend\n",
              "4     @vossroger  ...                      Malbec\n",
              "\n",
              "[5 rows x 12 columns]"
            ]
          },
          "metadata": {
            "tags": []
          },
          "execution_count": 66
        }
      ]
    },
    {
      "cell_type": "code",
      "metadata": {
        "id": "mkMDLLWpfqYT",
        "colab_type": "code",
        "outputId": "d69cd17a-f4af-4eaf-8cb9-75546480c515",
        "colab": {
          "base_uri": "https://localhost:8080/",
          "height": 366
        }
      },
      "source": [
        "data.info()"
      ],
      "execution_count": 0,
      "outputs": [
        {
          "output_type": "stream",
          "text": [
            "<class 'pandas.core.frame.DataFrame'>\n",
            "RangeIndex: 82657 entries, 0 to 82656\n",
            "Data columns (total 12 columns):\n",
            " #   Column              Non-Null Count  Dtype  \n",
            "---  ------              --------------  -----  \n",
            " 0   user_name           63264 non-null  object \n",
            " 1   country             82622 non-null  object \n",
            " 2   review_title        82657 non-null  object \n",
            " 3   review_description  82657 non-null  object \n",
            " 4   designation         59010 non-null  object \n",
            " 5   points              82657 non-null  int64  \n",
            " 6   price               77088 non-null  float64\n",
            " 7   province            82622 non-null  object \n",
            " 8   region_1            69903 non-null  object \n",
            " 9   region_2            35949 non-null  object \n",
            " 10  winery              82657 non-null  object \n",
            " 11  variety             82657 non-null  object \n",
            "dtypes: float64(1), int64(1), object(10)\n",
            "memory usage: 7.6+ MB\n"
          ],
          "name": "stdout"
        }
      ]
    },
    {
      "cell_type": "code",
      "metadata": {
        "id": "ZibkAebJfuoh",
        "colab_type": "code",
        "outputId": "59fcd973-3038-4579-dcc9-066c2b4d47e0",
        "colab": {
          "base_uri": "https://localhost:8080/",
          "height": 550
        }
      },
      "source": [
        "data['variety'].value_counts()"
      ],
      "execution_count": 0,
      "outputs": [
        {
          "output_type": "execute_result",
          "data": {
            "text/plain": [
              "Pinot Noir                    10587\n",
              "Chardonnay                     9403\n",
              "Cabernet Sauvignon             7552\n",
              "Red Blend                      7166\n",
              "Bordeaux-style Red Blend       5497\n",
              "Riesling                       4148\n",
              "Sauvignon Blanc                4011\n",
              "Syrah                          3316\n",
              "Rosé                           2831\n",
              "Merlot                         2471\n",
              "Nebbiolo                       2242\n",
              "Zinfandel                      2209\n",
              "Sangiovese                     2165\n",
              "Malbec                         2119\n",
              "Portuguese Red                 1969\n",
              "White Blend                    1896\n",
              "Sparkling Blend                1739\n",
              "Tempranillo                    1448\n",
              "Rhône-style Red Blend          1182\n",
              "Pinot Gris                     1148\n",
              "Champagne Blend                1133\n",
              "Cabernet Franc                 1095\n",
              "Grüner Veltliner               1055\n",
              "Portuguese White                896\n",
              "Pinot Grigio                    873\n",
              "Bordeaux-style White Blend      850\n",
              "Gewürztraminer                  840\n",
              "Gamay                           816\n",
              "Name: variety, dtype: int64"
            ]
          },
          "metadata": {
            "tags": []
          },
          "execution_count": 68
        }
      ]
    },
    {
      "cell_type": "code",
      "metadata": {
        "id": "z__u5eDWgmdF",
        "colab_type": "code",
        "colab": {}
      },
      "source": [
        "# selecting only the required columns\n",
        "reviews = data[['review_title','review_description','variety']]"
      ],
      "execution_count": 0,
      "outputs": []
    },
    {
      "cell_type": "code",
      "metadata": {
        "id": "y_zx9etviEJK",
        "colab_type": "code",
        "outputId": "e337e1ff-2483-4d51-b12c-87ada72a3e64",
        "colab": {
          "base_uri": "https://localhost:8080/",
          "height": 195
        }
      },
      "source": [
        "reviews.head()"
      ],
      "execution_count": 0,
      "outputs": [
        {
          "output_type": "execute_result",
          "data": {
            "text/html": [
              "<div>\n",
              "<style scoped>\n",
              "    .dataframe tbody tr th:only-of-type {\n",
              "        vertical-align: middle;\n",
              "    }\n",
              "\n",
              "    .dataframe tbody tr th {\n",
              "        vertical-align: top;\n",
              "    }\n",
              "\n",
              "    .dataframe thead th {\n",
              "        text-align: right;\n",
              "    }\n",
              "</style>\n",
              "<table border=\"1\" class=\"dataframe\">\n",
              "  <thead>\n",
              "    <tr style=\"text-align: right;\">\n",
              "      <th></th>\n",
              "      <th>review_title</th>\n",
              "      <th>review_description</th>\n",
              "      <th>variety</th>\n",
              "    </tr>\n",
              "  </thead>\n",
              "  <tbody>\n",
              "    <tr>\n",
              "      <th>0</th>\n",
              "      <td>Andrew Peace 2007 Peace Family Vineyard Chardo...</td>\n",
              "      <td>Classic Chardonnay aromas of apple, pear and h...</td>\n",
              "      <td>Chardonnay</td>\n",
              "    </tr>\n",
              "    <tr>\n",
              "      <th>1</th>\n",
              "      <td>North by Northwest 2014 Red (Columbia Valley (...</td>\n",
              "      <td>This wine is near equal parts Syrah and Merlot...</td>\n",
              "      <td>Red Blend</td>\n",
              "    </tr>\n",
              "    <tr>\n",
              "      <th>2</th>\n",
              "      <td>Renato Ratti 2007 Conca  (Barolo)</td>\n",
              "      <td>Barolo Conca opens with inky dark concentratio...</td>\n",
              "      <td>Nebbiolo</td>\n",
              "    </tr>\n",
              "    <tr>\n",
              "      <th>3</th>\n",
              "      <td>Domaine l'Ancienne Cure 2010 L'Abbaye White (B...</td>\n",
              "      <td>It's impressive what a small addition of Sauvi...</td>\n",
              "      <td>Bordeaux-style White Blend</td>\n",
              "    </tr>\n",
              "    <tr>\n",
              "      <th>4</th>\n",
              "      <td>Château du Cèdre 2012 Le Cèdre Vintage Malbec ...</td>\n",
              "      <td>This ripe, sweet wine is rich and full of drie...</td>\n",
              "      <td>Malbec</td>\n",
              "    </tr>\n",
              "  </tbody>\n",
              "</table>\n",
              "</div>"
            ],
            "text/plain": [
              "                                        review_title  ...                     variety\n",
              "0  Andrew Peace 2007 Peace Family Vineyard Chardo...  ...                  Chardonnay\n",
              "1  North by Northwest 2014 Red (Columbia Valley (...  ...                   Red Blend\n",
              "2                  Renato Ratti 2007 Conca  (Barolo)  ...                    Nebbiolo\n",
              "3  Domaine l'Ancienne Cure 2010 L'Abbaye White (B...  ...  Bordeaux-style White Blend\n",
              "4  Château du Cèdre 2012 Le Cèdre Vintage Malbec ...  ...                      Malbec\n",
              "\n",
              "[5 rows x 3 columns]"
            ]
          },
          "metadata": {
            "tags": []
          },
          "execution_count": 142
        }
      ]
    },
    {
      "cell_type": "code",
      "metadata": {
        "id": "tlVYZFcKjByf",
        "colab_type": "code",
        "outputId": "11e156c5-aa16-4018-bda0-797ac9de7115",
        "colab": {
          "base_uri": "https://localhost:8080/",
          "height": 54
        }
      },
      "source": [
        "reviews['review_description'][0]"
      ],
      "execution_count": 0,
      "outputs": [
        {
          "output_type": "execute_result",
          "data": {
            "text/plain": [
              "'Classic Chardonnay aromas of apple, pear and hay lead into a palate marked by decent intensity but also a bit of sweetness. Orange and candy notes run through the rather short finish.'"
            ]
          },
          "metadata": {
            "tags": []
          },
          "execution_count": 143
        }
      ]
    },
    {
      "cell_type": "code",
      "metadata": {
        "id": "alwvwYoZI89O",
        "colab_type": "code",
        "outputId": "746261df-44cd-4373-833f-a8980a8cd8c8",
        "colab": {
          "base_uri": "https://localhost:8080/",
          "height": 34
        }
      },
      "source": [
        "reviews['review_title'][0]"
      ],
      "execution_count": 0,
      "outputs": [
        {
          "output_type": "execute_result",
          "data": {
            "text/plain": [
              "'Andrew Peace 2007 Peace Family Vineyard Chardonnay (South Eastern Australia)'"
            ]
          },
          "metadata": {
            "tags": []
          },
          "execution_count": 144
        }
      ]
    },
    {
      "cell_type": "markdown",
      "metadata": {
        "id": "HdG7WCbzlON6",
        "colab_type": "text"
      },
      "source": [
        "we need to remove the symbols such as  ','  and  '.'  from the text"
      ]
    },
    {
      "cell_type": "code",
      "metadata": {
        "id": "DB12jLagkb_u",
        "colab_type": "code",
        "colab": {}
      },
      "source": [
        "# regular expression for removing symbols from text\n",
        "replace = re.compile(\"(\\.)|(\\;)|(\\:)|(\\!)|(\\')|(\\?)|(\\,)|(\\\")|(\\()|(\\))|(\\[)|(\\])|(\\%)|(\\-)\")"
      ],
      "execution_count": 0,
      "outputs": []
    },
    {
      "cell_type": "code",
      "metadata": {
        "id": "VljpQ3wDmPnF",
        "colab_type": "code",
        "colab": {}
      },
      "source": [
        "# function to remove symbols from the text\n",
        "def clean_text(data) :\n",
        "  data_cleaned = [replace.sub(\"\", line.lower()) for line in data]\n",
        "  return data_cleaned"
      ],
      "execution_count": 0,
      "outputs": []
    },
    {
      "cell_type": "code",
      "metadata": {
        "id": "xZHLkFUHmh6Z",
        "colab_type": "code",
        "colab": {}
      },
      "source": [
        "reviews['review_description'] = clean_text(reviews['review_description'])"
      ],
      "execution_count": 0,
      "outputs": []
    },
    {
      "cell_type": "markdown",
      "metadata": {
        "id": "hH34UM74Jbtn",
        "colab_type": "text"
      },
      "source": [
        "now we can see the symbols have been removed from text"
      ]
    },
    {
      "cell_type": "code",
      "metadata": {
        "id": "D2d-HKzFmrkb",
        "colab_type": "code",
        "outputId": "8349d53b-9b03-4b34-c282-d40c8698526b",
        "colab": {
          "base_uri": "https://localhost:8080/",
          "height": 54
        }
      },
      "source": [
        "reviews['review_description'][0]"
      ],
      "execution_count": 0,
      "outputs": [
        {
          "output_type": "execute_result",
          "data": {
            "text/plain": [
              "'classic chardonnay aromas of apple pear and hay lead into a palate marked by decent intensity but also a bit of sweetness orange and candy notes run through the rather short finish'"
            ]
          },
          "metadata": {
            "tags": []
          },
          "execution_count": 148
        }
      ]
    },
    {
      "cell_type": "code",
      "metadata": {
        "id": "1p3JdH7DnRUV",
        "colab_type": "code",
        "colab": {}
      },
      "source": [
        "reviews['review_title'] = clean_text(reviews['review_title'])"
      ],
      "execution_count": 0,
      "outputs": []
    },
    {
      "cell_type": "code",
      "metadata": {
        "id": "POw8N8JJqA1P",
        "colab_type": "code",
        "outputId": "0f297647-871c-4779-822c-51139dd594fe",
        "colab": {
          "base_uri": "https://localhost:8080/",
          "height": 34
        }
      },
      "source": [
        "reviews['review_title'][5]"
      ],
      "execution_count": 0,
      "outputs": [
        {
          "output_type": "execute_result",
          "data": {
            "text/plain": [
              "'andean 2005 finca la escondida reserva cabernet sauvignon san juan'"
            ]
          },
          "metadata": {
            "tags": []
          },
          "execution_count": 150
        }
      ]
    },
    {
      "cell_type": "code",
      "metadata": {
        "id": "ZIF17mzQtxwG",
        "colab_type": "code",
        "colab": {}
      },
      "source": [
        "from nltk import FreqDist"
      ],
      "execution_count": 0,
      "outputs": []
    },
    {
      "cell_type": "code",
      "metadata": {
        "id": "vCwstveaqFTN",
        "colab_type": "code",
        "colab": {}
      },
      "source": [
        "# function to plot top n most frequent words\n",
        "def freq_words(x, terms = 30):\n",
        "  all_words = ' '.join([text for text in x])\n",
        "  all_words = all_words.split()\n",
        "  \n",
        "  fdist = FreqDist(all_words)\n",
        "  words_df = pd.DataFrame({'word':list(fdist.keys()), 'count':list(fdist.values())})\n",
        "  \n",
        "  # selecting top n most frequent words\n",
        "  d = words_df.nlargest(columns=\"count\", n = terms) \n",
        "  plt.figure(figsize=(20,5))\n",
        "  ax = sns.barplot(data=d, x= \"word\", y = \"count\")\n",
        "  ax.set(ylabel = 'Count')\n",
        "  plt.show()"
      ],
      "execution_count": 0,
      "outputs": []
    },
    {
      "cell_type": "code",
      "metadata": {
        "id": "9nDDbVcGtFyP",
        "colab_type": "code",
        "outputId": "56782b8e-38a3-4832-bd44-cf4c21c6aa0e",
        "colab": {
          "base_uri": "https://localhost:8080/",
          "height": 314
        }
      },
      "source": [
        "freq_words(reviews['review_description'])"
      ],
      "execution_count": 0,
      "outputs": [
        {
          "output_type": "display_data",
          "data": {
            "image/png": "[encoded data removed]",
            "text/plain": [
              "<Figure size 1440x360 with 1 Axes>"
            ]
          },
          "metadata": {
            "tags": [],
            "needs_background": "light"
          }
        }
      ]
    },
    {
      "cell_type": "code",
      "metadata": {
        "id": "yFtwaLonuDQJ",
        "colab_type": "code",
        "outputId": "fc60f608-82a9-409a-d61b-c3324613e35c",
        "colab": {
          "base_uri": "https://localhost:8080/",
          "height": 315
        }
      },
      "source": [
        "freq_words(reviews['review_title'])"
      ],
      "execution_count": 0,
      "outputs": [
        {
          "output_type": "display_data",
          "data": {
            "image/png": "[encoded data removed]",
            "text/plain": [
              "<Figure size 1440x360 with 1 Axes>"
            ]
          },
          "metadata": {
            "tags": [],
            "needs_background": "light"
          }
        }
      ]
    },
    {
      "cell_type": "code",
      "metadata": {
        "id": "vGYUivZMugQs",
        "colab_type": "code",
        "colab": {}
      },
      "source": [
        "nlp = spacy.load('en_core_web_sm')"
      ],
      "execution_count": 0,
      "outputs": []
    },
    {
      "cell_type": "code",
      "metadata": {
        "id": "MhVgG1fHwHCb",
        "colab_type": "code",
        "colab": {}
      },
      "source": [
        "# tokenization using spaCy\n",
        "def tokenization(x):\n",
        "    reviews_tokens = []\n",
        "    for i in tqdm(x):\n",
        "        i = nlp(i)\n",
        "        temp = []\n",
        "        for j in i:\n",
        "            temp.append(j.text)\n",
        "        reviews_tokens.append(temp)\n",
        "    \n",
        "    return reviews_tokens"
      ],
      "execution_count": 0,
      "outputs": []
    },
    {
      "cell_type": "code",
      "metadata": {
        "id": "lCUbTrJIwb9K",
        "colab_type": "code",
        "outputId": "20ec3be4-0b68-4d24-8c8e-fafb10131aa4",
        "colab": {
          "base_uri": "https://localhost:8080/",
          "height": 34
        }
      },
      "source": [
        "reviews['tokenized_review'] = tokenization(reviews['review_description'])"
      ],
      "execution_count": 0,
      "outputs": [
        {
          "output_type": "stream",
          "text": [
            "100%|██████████| 82657/82657 [18:21<00:00, 75.01it/s]\n"
          ],
          "name": "stderr"
        }
      ]
    },
    {
      "cell_type": "code",
      "metadata": {
        "id": "CUK1OZhnOa2G",
        "colab_type": "code",
        "outputId": "8a765959-c142-4c31-f59c-ac9549de6d4f",
        "colab": {
          "base_uri": "https://localhost:8080/",
          "height": 554
        }
      },
      "source": [
        "reviews['tokenized_review'][0]"
      ],
      "execution_count": 0,
      "outputs": [
        {
          "output_type": "execute_result",
          "data": {
            "text/plain": [
              "['classic',\n",
              " 'chardonnay',\n",
              " 'aromas',\n",
              " 'of',\n",
              " 'apple',\n",
              " 'pear',\n",
              " 'and',\n",
              " 'hay',\n",
              " 'lead',\n",
              " 'into',\n",
              " 'a',\n",
              " 'palate',\n",
              " 'marked',\n",
              " 'by',\n",
              " 'decent',\n",
              " 'intensity',\n",
              " 'but',\n",
              " 'also',\n",
              " 'a',\n",
              " 'bit',\n",
              " 'of',\n",
              " 'sweetness',\n",
              " 'orange',\n",
              " 'and',\n",
              " 'candy',\n",
              " 'notes',\n",
              " 'run',\n",
              " 'through',\n",
              " 'the',\n",
              " 'rather',\n",
              " 'short',\n",
              " 'finish']"
            ]
          },
          "metadata": {
            "tags": []
          },
          "execution_count": 163
        }
      ]
    },
    {
      "cell_type": "code",
      "metadata": {
        "id": "iybS1U0mvA5W",
        "colab_type": "code",
        "colab": {}
      },
      "source": [
        "# function to remove stopwords\n",
        "def strip_stopwords(reviews):\n",
        "    s = []\n",
        "    for r in tqdm(reviews):\n",
        "        s_2 = []\n",
        "        for token in r:\n",
        "            if nlp.vocab[token].is_stop == True:\n",
        "                continue\n",
        "            else:\n",
        "                s_2.append(token)\n",
        "        s.append(\" \".join(s_2))    \n",
        "        \n",
        "    return s"
      ],
      "execution_count": 0,
      "outputs": []
    },
    {
      "cell_type": "code",
      "metadata": {
        "id": "St-2Hz0XvQW-",
        "colab_type": "code",
        "outputId": "d3f01240-b418-4222-cc81-16937805bae7",
        "colab": {
          "base_uri": "https://localhost:8080/",
          "height": 34
        }
      },
      "source": [
        "reviews['review_description'] = strip_stopwords(reviews['tokenized_review'])"
      ],
      "execution_count": 0,
      "outputs": [
        {
          "output_type": "stream",
          "text": [
            "100%|██████████| 82657/82657 [00:02<00:00, 40733.41it/s]\n"
          ],
          "name": "stderr"
        }
      ]
    },
    {
      "cell_type": "code",
      "metadata": {
        "id": "S1rh4LzaxVrD",
        "colab_type": "code",
        "outputId": "5fe53660-0ada-4ec1-e961-cea6b1c75240",
        "colab": {
          "base_uri": "https://localhost:8080/",
          "height": 34
        }
      },
      "source": [
        "reviews['review_description'][0]"
      ],
      "execution_count": 0,
      "outputs": [
        {
          "output_type": "execute_result",
          "data": {
            "text/plain": [
              "'classic chardonnay aromas apple pear hay lead palate marked decent intensity bit sweetness orange candy notes run short finish'"
            ]
          },
          "metadata": {
            "tags": []
          },
          "execution_count": 165
        }
      ]
    },
    {
      "cell_type": "code",
      "metadata": {
        "id": "C3_5uMXDO9zz",
        "colab_type": "code",
        "outputId": "590ee00a-7d45-4fd2-bee6-c99926c1e195",
        "colab": {
          "base_uri": "https://localhost:8080/",
          "height": 316
        }
      },
      "source": [
        "freq_words(reviews['review_description'])"
      ],
      "execution_count": 0,
      "outputs": [
        {
          "output_type": "display_data",
          "data": {
            "image/png": "[encoded data removed]",
            "text/plain": [
              "<Figure size 1440x360 with 1 Axes>"
            ]
          },
          "metadata": {
            "tags": [],
            "needs_background": "light"
          }
        }
      ]
    },
    {
      "cell_type": "code",
      "metadata": {
        "id": "wSyp7YmVM15f",
        "colab_type": "code",
        "outputId": "7ba517c5-cee8-470a-9f7e-7709f0e6b477",
        "colab": {
          "base_uri": "https://localhost:8080/",
          "height": 34
        }
      },
      "source": [
        "reviews['title_tokenized'] = tokenization(reviews['review_title'])"
      ],
      "execution_count": 0,
      "outputs": [
        {
          "output_type": "stream",
          "text": [
            "100%|██████████| 82657/82657 [11:55<00:00, 115.54it/s]\n"
          ],
          "name": "stderr"
        }
      ]
    },
    {
      "cell_type": "code",
      "metadata": {
        "id": "vDNBXM1lNKAG",
        "colab_type": "code",
        "outputId": "9ce21fdf-3b47-491c-b10b-626371e9d333",
        "colab": {
          "base_uri": "https://localhost:8080/",
          "height": 34
        }
      },
      "source": [
        "reviews['review_title'] = strip_stopwords(reviews['title_tokenized'])"
      ],
      "execution_count": 0,
      "outputs": [
        {
          "output_type": "stream",
          "text": [
            "100%|██████████| 82657/82657 [00:01<00:00, 81385.53it/s]\n"
          ],
          "name": "stderr"
        }
      ]
    },
    {
      "cell_type": "code",
      "metadata": {
        "id": "I7XrSNtINUlB",
        "colab_type": "code",
        "outputId": "d74efdb1-7e8a-4ce9-af39-aa27ee3e85c1",
        "colab": {
          "base_uri": "https://localhost:8080/",
          "height": 34
        }
      },
      "source": [
        "reviews['review_title'][0]"
      ],
      "execution_count": 0,
      "outputs": [
        {
          "output_type": "execute_result",
          "data": {
            "text/plain": [
              "'andrew peace 2007 peace family vineyard chardonnay south eastern australia'"
            ]
          },
          "metadata": {
            "tags": []
          },
          "execution_count": 169
        }
      ]
    },
    {
      "cell_type": "code",
      "metadata": {
        "id": "XOD8xDzavqfq",
        "colab_type": "code",
        "outputId": "e2ab5ce9-b64c-4e6d-ac78-5538436d8f7f",
        "colab": {
          "base_uri": "https://localhost:8080/",
          "height": 315
        }
      },
      "source": [
        "freq_words(reviews['review_title'])"
      ],
      "execution_count": 0,
      "outputs": [
        {
          "output_type": "display_data",
          "data": {
            "image/png": "[encoded data removed]",
            "text/plain": [
              "<Figure size 1440x360 with 1 Axes>"
            ]
          },
          "metadata": {
            "tags": [],
            "needs_background": "light"
          }
        }
      ]
    },
    {
      "cell_type": "code",
      "metadata": {
        "id": "_o5m4me0SK47",
        "colab_type": "code",
        "colab": {}
      },
      "source": [
        "reviews['review'] = reviews['review_title']+reviews['review_description']"
      ],
      "execution_count": 0,
      "outputs": []
    },
    {
      "cell_type": "code",
      "metadata": {
        "id": "3J7Lb1okSWy7",
        "colab_type": "code",
        "outputId": "b3313edc-4e1d-4a83-9092-7203c6f4523f",
        "colab": {
          "base_uri": "https://localhost:8080/",
          "height": 316
        }
      },
      "source": [
        "freq_words(reviews['review'])"
      ],
      "execution_count": 0,
      "outputs": [
        {
          "output_type": "display_data",
          "data": {
            "image/png": "[encoded data removed]",
            "text/plain": [
              "<Figure size 1440x360 with 1 Axes>"
            ]
          },
          "metadata": {
            "tags": [],
            "needs_background": "light"
          }
        }
      ]
    },
    {
      "cell_type": "markdown",
      "metadata": {
        "id": "l-R7a1XC2EBS",
        "colab_type": "text"
      },
      "source": [
        "# model using review_description only"
      ]
    },
    {
      "cell_type": "code",
      "metadata": {
        "id": "RI0XltuS22kX",
        "colab_type": "code",
        "colab": {}
      },
      "source": [
        "from sklearn.preprocessing import LabelEncoder\n",
        "encod = LabelEncoder()"
      ],
      "execution_count": 0,
      "outputs": []
    },
    {
      "cell_type": "code",
      "metadata": {
        "id": "I1mKgcBlmt68",
        "colab_type": "code",
        "colab": {}
      },
      "source": [
        "Y = encod.fit_transform(reviews['variety'])"
      ],
      "execution_count": 0,
      "outputs": []
    },
    {
      "cell_type": "code",
      "metadata": {
        "id": "3F6l6yQUrE7X",
        "colab_type": "code",
        "outputId": "30dafb93-d5ea-4ffb-a937-d8d80d41e394",
        "colab": {
          "base_uri": "https://localhost:8080/",
          "height": 151
        }
      },
      "source": [
        "encod.classes_"
      ],
      "execution_count": 0,
      "outputs": [
        {
          "output_type": "execute_result",
          "data": {
            "text/plain": [
              "array(['Bordeaux-style Red Blend', 'Bordeaux-style White Blend',\n",
              "       'Cabernet Franc', 'Cabernet Sauvignon', 'Champagne Blend',\n",
              "       'Chardonnay', 'Gamay', 'Gewürztraminer', 'Grüner Veltliner',\n",
              "       'Malbec', 'Merlot', 'Nebbiolo', 'Pinot Grigio', 'Pinot Gris',\n",
              "       'Pinot Noir', 'Portuguese Red', 'Portuguese White', 'Red Blend',\n",
              "       'Rhône-style Red Blend', 'Riesling', 'Rosé', 'Sangiovese',\n",
              "       'Sauvignon Blanc', 'Sparkling Blend', 'Syrah', 'Tempranillo',\n",
              "       'White Blend', 'Zinfandel'], dtype=object)"
            ]
          },
          "metadata": {
            "tags": []
          },
          "execution_count": 185
        }
      ]
    },
    {
      "cell_type": "code",
      "metadata": {
        "id": "zd-LqMZX2Knz",
        "colab_type": "code",
        "colab": {}
      },
      "source": [
        "from sklearn.feature_extraction.text import CountVectorizer"
      ],
      "execution_count": 0,
      "outputs": []
    },
    {
      "cell_type": "code",
      "metadata": {
        "id": "Lq_3y8iz2oLq",
        "colab_type": "code",
        "colab": {}
      },
      "source": [
        "from sklearn.model_selection import train_test_split"
      ],
      "execution_count": 0,
      "outputs": []
    },
    {
      "cell_type": "code",
      "metadata": {
        "id": "ViLT093v2qff",
        "colab_type": "code",
        "colab": {}
      },
      "source": [
        "X_train,X_temp,Y_train,Y_temp = train_test_split(reviews['review_description'],Y,test_size=0.3,random_state=0,stratify=Y)\n",
        "X_val,X_test,Y_val,Y_test = train_test_split(X_temp,Y_temp,test_size=0.5,random_state=0,stratify=Y_temp)"
      ],
      "execution_count": 0,
      "outputs": []
    },
    {
      "cell_type": "code",
      "metadata": {
        "id": "gwyWCnJz2WRC",
        "colab_type": "code",
        "colab": {}
      },
      "source": [
        "# build bag-of-words features for train data\n",
        " vectorizer = CountVectorizer(binary=False, min_df=1, max_df=0.8, ngram_range=(1,2))\n",
        "X_train_count = vectorizer.fit_transform(X_train)\n"
      ],
      "execution_count": 0,
      "outputs": []
    },
    {
      "cell_type": "code",
      "metadata": {
        "id": "KzAVuueH6N2J",
        "colab_type": "code",
        "colab": {}
      },
      "source": [
        "# create features for validation and test set\n",
        "X_val_count = vectorizer.transform(X_val)\n",
        "X_test_count = vectorizer.transform(X_test)"
      ],
      "execution_count": 0,
      "outputs": []
    },
    {
      "cell_type": "code",
      "metadata": {
        "id": "dgcdE9xxjEDG",
        "colab_type": "code",
        "outputId": "bd907c55-42c0-4d57-9a6f-2c1b163b3cc0",
        "colab": {
          "base_uri": "https://localhost:8080/",
          "height": 34
        }
      },
      "source": [
        "print('BOW model:> Train features shape:', X_train_count.shape, ' Validation features shape:',X_val_count.shape, \n",
        "      ' Test features shape:', X_test_count.shape)"
      ],
      "execution_count": 0,
      "outputs": [
        {
          "output_type": "stream",
          "text": [
            "BOW model:> Train features shape: (57859, 487845)  Validation features shape: (12399, 487845)  Test features shape: (12399, 487845)\n"
          ],
          "name": "stdout"
        }
      ]
    },
    {
      "cell_type": "code",
      "metadata": {
        "id": "u2v7xJzQt78A",
        "colab_type": "code",
        "colab": {}
      },
      "source": [
        "# Logistic Regression model\n",
        "from sklearn.linear_model import LogisticRegression"
      ],
      "execution_count": 0,
      "outputs": []
    },
    {
      "cell_type": "code",
      "metadata": {
        "id": "tU14YEx-uNrH",
        "colab_type": "code",
        "colab": {}
      },
      "source": [
        "lr = LogisticRegression(n_jobs=-1)"
      ],
      "execution_count": 0,
      "outputs": []
    },
    {
      "cell_type": "code",
      "metadata": {
        "id": "zp90PErauZfK",
        "colab_type": "code",
        "outputId": "4f91b5e0-45ac-4ce7-a452-b0d879ed06c3",
        "colab": {
          "base_uri": "https://localhost:8080/",
          "height": 101
        }
      },
      "source": [
        "lr.fit(X_train_count,Y_train)"
      ],
      "execution_count": 0,
      "outputs": [
        {
          "output_type": "execute_result",
          "data": {
            "text/plain": [
              "LogisticRegression(C=1.0, class_weight=None, dual=False, fit_intercept=True,\n",
              "                   intercept_scaling=1, l1_ratio=None, max_iter=100,\n",
              "                   multi_class='auto', n_jobs=-1, penalty='l2',\n",
              "                   random_state=None, solver='lbfgs', tol=0.0001, verbose=0,\n",
              "                   warm_start=False)"
            ]
          },
          "metadata": {
            "tags": []
          },
          "execution_count": 194
        }
      ]
    },
    {
      "cell_type": "code",
      "metadata": {
        "id": "IQ3QpX3xuhIq",
        "colab_type": "code",
        "colab": {}
      },
      "source": [
        "from sklearn.metrics import accuracy_score"
      ],
      "execution_count": 0,
      "outputs": []
    },
    {
      "cell_type": "code",
      "metadata": {
        "id": "Tp4O2zHqu7Oy",
        "colab_type": "code",
        "colab": {}
      },
      "source": [
        "Y_train_pred = lr.predict(X_train_count)\n",
        "Y_val_pred = lr.predict(X_val_count)\n",
        "Y_test_pred = lr.predict(X_test_count)"
      ],
      "execution_count": 0,
      "outputs": []
    },
    {
      "cell_type": "code",
      "metadata": {
        "id": "m6PxUDFBvLM9",
        "colab_type": "code",
        "outputId": "e06bbf29-6297-4238-8242-6208b9d2be73",
        "colab": {
          "base_uri": "https://localhost:8080/",
          "height": 67
        }
      },
      "source": [
        "print('Train_accuracy:',accuracy_score(Y_train,Y_train_pred))\n",
        "print('Val_accuracy:',accuracy_score(Y_val,Y_val_pred))\n",
        "print('Test_accuracy:',accuracy_score(Y_test,Y_test_pred))"
      ],
      "execution_count": 0,
      "outputs": [
        {
          "output_type": "stream",
          "text": [
            "Train_accuracy: 0.9999308664166335\n",
            "Val_accuracy: 0.7172352609081377\n",
            "Test_accuracy: 0.7166706992499395\n"
          ],
          "name": "stdout"
        }
      ]
    },
    {
      "cell_type": "markdown",
      "metadata": {
        "id": "ATOcfo8ev_fc",
        "colab_type": "text"
      },
      "source": [
        "model has highly overfitted"
      ]
    },
    {
      "cell_type": "code",
      "metadata": {
        "id": "KHbI6HMIvjmy",
        "colab_type": "code",
        "colab": {}
      },
      "source": [
        "lr_reg = LogisticRegression(n_jobs=-1,C=0.4)"
      ],
      "execution_count": 0,
      "outputs": []
    },
    {
      "cell_type": "code",
      "metadata": {
        "id": "i8x1LikyxlPE",
        "colab_type": "code",
        "outputId": "391140d3-349d-49a7-b332-ed69bec327ec",
        "colab": {
          "base_uri": "https://localhost:8080/",
          "height": 109
        }
      },
      "source": [
        "lr_reg.fit(X_train_count,Y_train)"
      ],
      "execution_count": 0,
      "outputs": [
        {
          "output_type": "execute_result",
          "data": {
            "text/plain": [
              "LogisticRegression(C=0.05, class_weight=None, dual=False, fit_intercept=True,\n",
              "                   intercept_scaling=1, l1_ratio=None, max_iter=100,\n",
              "                   multi_class='auto', n_jobs=-1, penalty='l2',\n",
              "                   random_state=None, solver='lbfgs', tol=0.0001, verbose=0,\n",
              "                   warm_start=False)"
            ]
          },
          "metadata": {
            "tags": []
          },
          "execution_count": 50
        }
      ]
    },
    {
      "cell_type": "code",
      "metadata": {
        "id": "pqujAUIRxrA1",
        "colab_type": "code",
        "colab": {}
      },
      "source": [
        "Y_train_pred = lr_reg.predict(X_train_count)\n",
        "Y_val_pred = lr_reg.predict(X_val_count)\n",
        "Y_test_pred = lr_reg.predict(X_test_count)"
      ],
      "execution_count": 0,
      "outputs": []
    },
    {
      "cell_type": "code",
      "metadata": {
        "id": "Jptqfb_5yB7c",
        "colab_type": "code",
        "outputId": "abb4c83a-ca27-48b9-c9ae-03714284f0c5",
        "colab": {
          "base_uri": "https://localhost:8080/",
          "height": 72
        }
      },
      "source": [
        "print('Train_accuracy:',accuracy_score(Y_train,Y_train_pred))\n",
        "print('Val_accuracy:',accuracy_score(Y_val,Y_val_pred))\n",
        "print('Test_accuracy:',accuracy_score(Y_test,Y_test_pred))"
      ],
      "execution_count": 0,
      "outputs": [
        {
          "output_type": "stream",
          "text": [
            "Train_accuracy: 0.8696659119583816\n",
            "Val_accuracy: 0.6960238728929753\n",
            "Test_accuracy: 0.6911847729655617\n"
          ],
          "name": "stdout"
        }
      ]
    },
    {
      "cell_type": "code",
      "metadata": {
        "id": "aKlJytwO0nhM",
        "colab_type": "code",
        "colab": {}
      },
      "source": [
        "from sklearn.ensemble import RandomForestClassifier"
      ],
      "execution_count": 0,
      "outputs": []
    },
    {
      "cell_type": "code",
      "metadata": {
        "id": "7H-QA-8H7kYC",
        "colab_type": "code",
        "colab": {}
      },
      "source": [
        "clf = RandomForestClassifier(n_jobs=-1)"
      ],
      "execution_count": 0,
      "outputs": []
    },
    {
      "cell_type": "code",
      "metadata": {
        "id": "-aBrKTYd-WDm",
        "colab_type": "code",
        "outputId": "3776a4a7-fbfe-42ac-e2cd-afdab100f45c",
        "colab": {
          "base_uri": "https://localhost:8080/",
          "height": 164
        }
      },
      "source": [
        "clf.fit(X_train_count,Y_train)"
      ],
      "execution_count": 0,
      "outputs": [
        {
          "output_type": "execute_result",
          "data": {
            "text/plain": [
              "RandomForestClassifier(bootstrap=True, ccp_alpha=0.0, class_weight=None,\n",
              "                       criterion='gini', max_depth=None, max_features='auto',\n",
              "                       max_leaf_nodes=None, max_samples=None,\n",
              "                       min_impurity_decrease=0.0, min_impurity_split=None,\n",
              "                       min_samples_leaf=1, min_samples_split=2,\n",
              "                       min_weight_fraction_leaf=0.0, n_estimators=100,\n",
              "                       n_jobs=-1, oob_score=False, random_state=None, verbose=0,\n",
              "                       warm_start=False)"
            ]
          },
          "metadata": {
            "tags": []
          },
          "execution_count": 64
        }
      ]
    },
    {
      "cell_type": "code",
      "metadata": {
        "id": "Hap4528_-a_-",
        "colab_type": "code",
        "colab": {}
      },
      "source": [
        "Y_train_pred = clf.predict(X_train_count)\n",
        "Y_val_pred = clf.predict(X_val_count)\n",
        "Y_test_pred = clf.predict(X_test_count)"
      ],
      "execution_count": 0,
      "outputs": []
    },
    {
      "cell_type": "code",
      "metadata": {
        "id": "_6Y-bKT3BIUp",
        "colab_type": "code",
        "outputId": "36d34361-979d-48e9-d7dc-ccbef12661fc",
        "colab": {
          "base_uri": "https://localhost:8080/",
          "height": 72
        }
      },
      "source": [
        "print('Train_accuracy:',accuracy_score(Y_train,Y_train_pred))\n",
        "print('Val_accuracy:',accuracy_score(Y_val,Y_val_pred))\n",
        "print('Test_accuracy:',accuracy_score(Y_test,Y_test_pred))"
      ],
      "execution_count": 0,
      "outputs": [
        {
          "output_type": "stream",
          "text": [
            "Train_accuracy: 0.9999654332083168\n",
            "Val_accuracy: 0.6123880958141785\n",
            "Test_accuracy: 0.6155335107669974\n"
          ],
          "name": "stdout"
        }
      ]
    },
    {
      "cell_type": "code",
      "metadata": {
        "id": "vChqqhwqBOM_",
        "colab_type": "code",
        "colab": {}
      },
      "source": [
        "clf2 = RandomForestClassifier(n_estimators=100,max_depth=200,min_samples_split=4,min_samples_leaf=2,random_state=0)"
      ],
      "execution_count": 0,
      "outputs": []
    },
    {
      "cell_type": "code",
      "metadata": {
        "id": "WIgKs75UCTOx",
        "colab_type": "code",
        "outputId": "364e0ac1-5764-4b44-9ca4-dd224e4f2fd7",
        "colab": {
          "base_uri": "https://localhost:8080/",
          "height": 164
        }
      },
      "source": [
        "clf2.fit(X_train_count,Y_train)"
      ],
      "execution_count": 0,
      "outputs": [
        {
          "output_type": "execute_result",
          "data": {
            "text/plain": [
              "RandomForestClassifier(bootstrap=True, ccp_alpha=0.0, class_weight=None,\n",
              "                       criterion='gini', max_depth=200, max_features='auto',\n",
              "                       max_leaf_nodes=None, max_samples=None,\n",
              "                       min_impurity_decrease=0.0, min_impurity_split=None,\n",
              "                       min_samples_leaf=2, min_samples_split=4,\n",
              "                       min_weight_fraction_leaf=0.0, n_estimators=100,\n",
              "                       n_jobs=None, oob_score=False, random_state=0, verbose=0,\n",
              "                       warm_start=False)"
            ]
          },
          "metadata": {
            "tags": []
          },
          "execution_count": 144
        }
      ]
    },
    {
      "cell_type": "code",
      "metadata": {
        "id": "aUsaUIodCXLJ",
        "colab_type": "code",
        "colab": {}
      },
      "source": [
        "Y_train_pred = clf2.predict(X_train_count)\n",
        "Y_val_pred = clf2.predict(X_val_count)\n",
        "Y_test_pred = clf2.predict(X_test_count)"
      ],
      "execution_count": 0,
      "outputs": []
    },
    {
      "cell_type": "code",
      "metadata": {
        "id": "oqDUfYZpCgMe",
        "colab_type": "code",
        "outputId": "f94beb24-fc20-43f6-cd8c-3da1e73ed01c",
        "colab": {
          "base_uri": "https://localhost:8080/",
          "height": 72
        }
      },
      "source": [
        "print('Train_accuracy:',accuracy_score(Y_train,Y_train_pred))\n",
        "print('Val_accuracy:',accuracy_score(Y_val,Y_val_pred))\n",
        "print('Test_accuracy:',accuracy_score(Y_test,Y_test_pred))"
      ],
      "execution_count": 0,
      "outputs": [
        {
          "output_type": "stream",
          "text": [
            "Train_accuracy: 0.6257626298415112\n",
            "Val_accuracy: 0.5245584321316236\n",
            "Test_accuracy: 0.5350431486410194\n"
          ],
          "name": "stdout"
        }
      ]
    },
    {
      "cell_type": "markdown",
      "metadata": {
        "id": "gLzXU7Nhf2iW",
        "colab_type": "text"
      },
      "source": [
        "here we can see the models are highly overfitting and upon apllying methods to counter it underfitting is happening, hence we will add the data in review_title column and then test the models"
      ]
    },
    {
      "cell_type": "markdown",
      "metadata": {
        "id": "Vv1vFsqBrUzl",
        "colab_type": "text"
      },
      "source": [
        "# Model using both review title and description"
      ]
    },
    {
      "cell_type": "code",
      "metadata": {
        "id": "dD6q5qpBuxSh",
        "colab_type": "code",
        "colab": {}
      },
      "source": [
        "# combining review_title and review_description_columns\n",
        "reviews['review'] = reviews['review_title_tokenized']+reviews['tokenized_review']"
      ],
      "execution_count": 0,
      "outputs": []
    },
    {
      "cell_type": "code",
      "metadata": {
        "id": "263lqvQBo_Vy",
        "colab_type": "code",
        "colab": {}
      },
      "source": [
        "from sklearn.model_selection import train_test_split"
      ],
      "execution_count": 0,
      "outputs": []
    },
    {
      "cell_type": "code",
      "metadata": {
        "id": "8sNTpEEepKcr",
        "colab_type": "code",
        "colab": {}
      },
      "source": [
        "X_train,X_temp,Y_train,Y_temp = train_test_split(reviews['review'],Y,test_size=0.3,random_state=0,stratify=Y)\n",
        "X_val,X_test,Y_val,Y_test = train_test_split(X_temp,Y_temp,test_size=0.5,random_state=0,stratify=Y_temp)"
      ],
      "execution_count": 0,
      "outputs": []
    },
    {
      "cell_type": "code",
      "metadata": {
        "id": "_r6ds7V_paeX",
        "colab_type": "code",
        "colab": {}
      },
      "source": [
        "# build bag-of-words features for train data\n",
        " vectorizer = CountVectorizer(binary=False, min_df=1, max_df=0.8, ngram_range=(1,2))\n",
        "X_train_count = vectorizer.fit_transform(X_train)\n"
      ],
      "execution_count": 0,
      "outputs": []
    },
    {
      "cell_type": "code",
      "metadata": {
        "id": "IWW2cVV2pfu1",
        "colab_type": "code",
        "colab": {}
      },
      "source": [
        "# create features for validation and test set\n",
        "X_val_count = vectorizer.transform(X_val)\n",
        "\n",
        "\n",
        "X_test_count = vectorizer.transform(X_test)\n"
      ],
      "execution_count": 0,
      "outputs": []
    },
    {
      "cell_type": "code",
      "metadata": {
        "id": "Lu2MHLYrpnFs",
        "colab_type": "code",
        "outputId": "c9b6e1e5-7431-4472-9624-9e8a7071d267",
        "colab": {
          "base_uri": "https://localhost:8080/",
          "height": 34
        }
      },
      "source": [
        "print('BOW model:> Train features shape:', X_train_count.shape, ' Validation features shape:',X_val_count.shape, \n",
        "      ' Test features shape:', X_test_count.shape)"
      ],
      "execution_count": 0,
      "outputs": [
        {
          "output_type": "stream",
          "text": [
            "BOW model:> Train features shape: (57859, 546714)  Validation features shape: (12399, 546714)  Test features shape: (12399, 546714)\n"
          ],
          "name": "stdout"
        }
      ]
    },
    {
      "cell_type": "code",
      "metadata": {
        "id": "vb-ncZILpq0f",
        "colab_type": "code",
        "colab": {}
      },
      "source": [
        "from sklearn.linear_model import LogisticRegression"
      ],
      "execution_count": 0,
      "outputs": []
    },
    {
      "cell_type": "code",
      "metadata": {
        "id": "M5tY0ei8pzzn",
        "colab_type": "code",
        "colab": {}
      },
      "source": [
        "lr = LogisticRegression()"
      ],
      "execution_count": 0,
      "outputs": []
    },
    {
      "cell_type": "code",
      "metadata": {
        "id": "rS0ciTKhp30u",
        "colab_type": "code",
        "outputId": "60d95232-70ca-4136-9c27-9168322ce5f9",
        "colab": {
          "base_uri": "https://localhost:8080/",
          "height": 101
        }
      },
      "source": [
        "lr.fit(X_train_count,Y_train)"
      ],
      "execution_count": 0,
      "outputs": [
        {
          "output_type": "execute_result",
          "data": {
            "text/plain": [
              "LogisticRegression(C=1.0, class_weight=None, dual=False, fit_intercept=True,\n",
              "                   intercept_scaling=1, l1_ratio=None, max_iter=100,\n",
              "                   multi_class='auto', n_jobs=None, penalty='l2',\n",
              "                   random_state=None, solver='lbfgs', tol=0.0001, verbose=0,\n",
              "                   warm_start=False)"
            ]
          },
          "metadata": {
            "tags": []
          },
          "execution_count": 225
        }
      ]
    },
    {
      "cell_type": "code",
      "metadata": {
        "id": "SAEM1WFNqbgQ",
        "colab_type": "code",
        "colab": {}
      },
      "source": [
        "from sklearn.metrics import accuracy_score"
      ],
      "execution_count": 0,
      "outputs": []
    },
    {
      "cell_type": "code",
      "metadata": {
        "id": "_dQSQPbVp8Au",
        "colab_type": "code",
        "colab": {}
      },
      "source": [
        "Y_train_pred = lr.predict(X_train_count)\n",
        "Y_val_pred = lr.predict(X_val_count)\n",
        "Y_test_pred = lr.predict(X_test_count)"
      ],
      "execution_count": 0,
      "outputs": []
    },
    {
      "cell_type": "code",
      "metadata": {
        "id": "SIHLJFWxqVOh",
        "colab_type": "code",
        "outputId": "7fc8c827-69b6-45e3-9023-46584998b400",
        "colab": {
          "base_uri": "https://localhost:8080/",
          "height": 67
        }
      },
      "source": [
        "print('Train_accuracy:',accuracy_score(Y_train,Y_train_pred))\n",
        "print('Val_accuracy:',accuracy_score(Y_val,Y_val_pred))\n",
        "print('Test_accuracy:',accuracy_score(Y_test,Y_test_pred))"
      ],
      "execution_count": 0,
      "outputs": [
        {
          "output_type": "stream",
          "text": [
            "Train_accuracy: 1.0\n",
            "Val_accuracy: 0.9644326155335108\n",
            "Test_accuracy: 0.965803693846278\n"
          ],
          "name": "stdout"
        }
      ]
    },
    {
      "cell_type": "markdown",
      "metadata": {
        "id": "IkOTlduueQjv",
        "colab_type": "text"
      },
      "source": [
        "here we can see the performance of model on both train and validation data is almost same, adding the data of review_title has highly improved the model performance"
      ]
    },
    {
      "cell_type": "code",
      "metadata": {
        "id": "_Fxk6vrhrO9H",
        "colab_type": "code",
        "colab": {}
      },
      "source": [
        "from sklearn.ensemble import RandomForestClassifier"
      ],
      "execution_count": 0,
      "outputs": []
    },
    {
      "cell_type": "code",
      "metadata": {
        "id": "6wIO6kA7tDEo",
        "colab_type": "code",
        "colab": {}
      },
      "source": [
        "clf = RandomForestClassifier()"
      ],
      "execution_count": 0,
      "outputs": []
    },
    {
      "cell_type": "code",
      "metadata": {
        "id": "gvZ-ncFktKF5",
        "colab_type": "code",
        "outputId": "b6dd560b-bd73-4429-e4f3-23586d0b8744",
        "colab": {
          "base_uri": "https://localhost:8080/",
          "height": 151
        }
      },
      "source": [
        "clf.fit(X_train_count,Y_train)"
      ],
      "execution_count": 0,
      "outputs": [
        {
          "output_type": "execute_result",
          "data": {
            "text/plain": [
              "RandomForestClassifier(bootstrap=True, ccp_alpha=0.0, class_weight=None,\n",
              "                       criterion='gini', max_depth=None, max_features='auto',\n",
              "                       max_leaf_nodes=None, max_samples=None,\n",
              "                       min_impurity_decrease=0.0, min_impurity_split=None,\n",
              "                       min_samples_leaf=1, min_samples_split=2,\n",
              "                       min_weight_fraction_leaf=0.0, n_estimators=100,\n",
              "                       n_jobs=None, oob_score=False, random_state=None,\n",
              "                       verbose=0, warm_start=False)"
            ]
          },
          "metadata": {
            "tags": []
          },
          "execution_count": 57
        }
      ]
    },
    {
      "cell_type": "code",
      "metadata": {
        "id": "hdxcVj3etOdY",
        "colab_type": "code",
        "colab": {}
      },
      "source": [
        "Y_train_pred = clf.predict(X_train_count)\n",
        "Y_val_pred = clf.predict(X_val_count)\n",
        "Y_test_pred = clf.predict(X_test_count)"
      ],
      "execution_count": 0,
      "outputs": []
    },
    {
      "cell_type": "code",
      "metadata": {
        "id": "KSbdNSa_tTeb",
        "colab_type": "code",
        "outputId": "aa044ec7-ac16-4796-8c39-71e50da704d5",
        "colab": {
          "base_uri": "https://localhost:8080/",
          "height": 67
        }
      },
      "source": [
        "print('Train_accuracy:',accuracy_score(Y_train,Y_train_pred))\n",
        "print('Val_accuracy:',accuracy_score(Y_val,Y_val_pred))\n",
        "print('Test_accuracy:',accuracy_score(Y_test,Y_test_pred))"
      ],
      "execution_count": 0,
      "outputs": [
        {
          "output_type": "stream",
          "text": [
            "Train_accuracy: 1.0\n",
            "Val_accuracy: 0.8984595531897733\n",
            "Test_accuracy: 0.9016856198080491\n"
          ],
          "name": "stdout"
        }
      ]
    },
    {
      "cell_type": "markdown",
      "metadata": {
        "id": "jtd3rPOeew7J",
        "colab_type": "text"
      },
      "source": [
        "the performance of random forest on validation data is worse as compared to the logistic regression model, hence we will choose logisticRegression as our final model"
      ]
    },
    {
      "cell_type": "markdown",
      "metadata": {
        "id": "bDcYXu8mxhTF",
        "colab_type": "text"
      },
      "source": [
        "# Predicting on the test-set"
      ]
    },
    {
      "cell_type": "code",
      "metadata": {
        "id": "n15oj2PwxkvU",
        "colab_type": "code",
        "colab": {}
      },
      "source": [
        "test_data = pd.read_csv('/content/Knight ML Assignment/Data/test.csv')"
      ],
      "execution_count": 0,
      "outputs": []
    },
    {
      "cell_type": "code",
      "metadata": {
        "id": "qonqyfQg0vCf",
        "colab_type": "code",
        "outputId": "917bd1cd-972a-4985-c048-af09470e2006",
        "colab": {
          "base_uri": "https://localhost:8080/",
          "height": 319
        }
      },
      "source": [
        "test_data.info()"
      ],
      "execution_count": 0,
      "outputs": [
        {
          "output_type": "stream",
          "text": [
            "<class 'pandas.core.frame.DataFrame'>\n",
            "RangeIndex: 20665 entries, 0 to 20664\n",
            "Data columns (total 11 columns):\n",
            " #   Column              Non-Null Count  Dtype  \n",
            "---  ------              --------------  -----  \n",
            " 0   user_name           15927 non-null  object \n",
            " 1   country             20661 non-null  object \n",
            " 2   review_title        20665 non-null  object \n",
            " 3   review_description  20665 non-null  object \n",
            " 4   designation         14676 non-null  object \n",
            " 5   points              20665 non-null  int64  \n",
            " 6   price               19271 non-null  float64\n",
            " 7   province            20661 non-null  object \n",
            " 8   region_1            17351 non-null  object \n",
            " 9   region_2            8914 non-null   object \n",
            " 10  winery              20665 non-null  object \n",
            "dtypes: float64(1), int64(1), object(9)\n",
            "memory usage: 1.7+ MB\n"
          ],
          "name": "stdout"
        }
      ]
    },
    {
      "cell_type": "code",
      "metadata": {
        "id": "Z3pzkWVACS5U",
        "colab_type": "code",
        "colab": {}
      },
      "source": [
        "reviews_test['review_title'] = reviews_test['review_title'].astype('str')"
      ],
      "execution_count": 0,
      "outputs": []
    },
    {
      "cell_type": "code",
      "metadata": {
        "id": "MTI4s9gzCeN3",
        "colab_type": "code",
        "colab": {}
      },
      "source": [
        "reviews_test['review_description'] = reviews_test['review_description'].astype('str')"
      ],
      "execution_count": 0,
      "outputs": []
    },
    {
      "cell_type": "code",
      "metadata": {
        "id": "zLH8uLsK0x-r",
        "colab_type": "code",
        "colab": {}
      },
      "source": [
        "reviews_test = test_data[['review_title','review_description']]"
      ],
      "execution_count": 0,
      "outputs": []
    },
    {
      "cell_type": "code",
      "metadata": {
        "id": "1WuMiQTh4Jrq",
        "colab_type": "code",
        "colab": {}
      },
      "source": [
        "reviews_test['review_title'] = clean_text(reviews_test['review_title'])"
      ],
      "execution_count": 0,
      "outputs": []
    },
    {
      "cell_type": "code",
      "metadata": {
        "id": "U7Wa3sAS4TGO",
        "colab_type": "code",
        "colab": {}
      },
      "source": [
        "reviews_test['review_description'] = clean_text(reviews_test['review_description'])"
      ],
      "execution_count": 0,
      "outputs": []
    },
    {
      "cell_type": "code",
      "metadata": {
        "id": "i6-q75Xi4hu2",
        "colab_type": "code",
        "outputId": "d5b3d2df-f1a7-4883-ad1f-c9c48b5c96c2",
        "colab": {
          "base_uri": "https://localhost:8080/",
          "height": 34
        }
      },
      "source": [
        "reviews_test['review_title_tokenized'] = tokenization(reviews_test['review_title'])"
      ],
      "execution_count": 0,
      "outputs": [
        {
          "output_type": "stream",
          "text": [
            "100%|██████████| 20665/20665 [02:59<00:00, 115.05it/s]\n"
          ],
          "name": "stderr"
        }
      ]
    },
    {
      "cell_type": "code",
      "metadata": {
        "id": "pTRYrD8dBzZe",
        "colab_type": "code",
        "outputId": "c8203d63-aecd-4175-b4b3-ccdd5140dcd7",
        "colab": {
          "base_uri": "https://localhost:8080/",
          "height": 151
        }
      },
      "source": [
        "reviews_test['review_title_tokenized'][0]"
      ],
      "execution_count": 0,
      "outputs": [
        {
          "output_type": "execute_result",
          "data": {
            "text/plain": [
              "['boedecker',\n",
              " 'cellars',\n",
              " '2011',\n",
              " 'athena',\n",
              " 'pinot',\n",
              " 'noir',\n",
              " 'willamette',\n",
              " 'valley']"
            ]
          },
          "metadata": {
            "tags": []
          },
          "execution_count": 122
        }
      ]
    },
    {
      "cell_type": "code",
      "metadata": {
        "id": "eRTEI7a01Ctv",
        "colab_type": "code",
        "outputId": "f2387efe-9478-4792-edc7-6a7041b61a12",
        "colab": {
          "base_uri": "https://localhost:8080/",
          "height": 34
        }
      },
      "source": [
        "reviews_test['tokenized_review'] = tokenization(reviews_test['review_description'])"
      ],
      "execution_count": 0,
      "outputs": [
        {
          "output_type": "stream",
          "text": [
            "100%|██████████| 20665/20665 [04:33<00:00, 75.69it/s]\n"
          ],
          "name": "stderr"
        }
      ]
    },
    {
      "cell_type": "code",
      "metadata": {
        "id": "zti5CvfqB12w",
        "colab_type": "code",
        "colab": {}
      },
      "source": [
        ""
      ],
      "execution_count": 0,
      "outputs": []
    },
    {
      "cell_type": "code",
      "metadata": {
        "id": "9d34W4W630KG",
        "colab_type": "code",
        "colab": {}
      },
      "source": [
        "reviews_test['review'] = reviews_test['tokenized_review']+ reviews_test['review_title_tokenized']"
      ],
      "execution_count": 0,
      "outputs": []
    },
    {
      "cell_type": "code",
      "metadata": {
        "id": "Zg2JgCvjBY3H",
        "colab_type": "code",
        "colab": {}
      },
      "source": [
        "reviews_test['review']=reviews_test['review'].astype('str')"
      ],
      "execution_count": 0,
      "outputs": []
    },
    {
      "cell_type": "code",
      "metadata": {
        "id": "cszf0HTn5kwn",
        "colab_type": "code",
        "colab": {}
      },
      "source": [
        "X = vectorizer.transform(reviews_test['review'])"
      ],
      "execution_count": 0,
      "outputs": []
    },
    {
      "cell_type": "code",
      "metadata": {
        "id": "FBVDyv6W79I1",
        "colab_type": "code",
        "colab": {}
      },
      "source": [
        "test_pred = lr.predict(X)"
      ],
      "execution_count": 0,
      "outputs": []
    },
    {
      "cell_type": "code",
      "metadata": {
        "id": "qys6ZIVB8QT4",
        "colab_type": "code",
        "colab": {}
      },
      "source": [
        "test_predict = encod.inverse_transform(test_pred)"
      ],
      "execution_count": 0,
      "outputs": []
    },
    {
      "cell_type": "code",
      "metadata": {
        "id": "m93YmJF3-BLx",
        "colab_type": "code",
        "outputId": "f05e2ac3-de06-45cc-f587-705cec4cc04c",
        "colab": {
          "base_uri": "https://localhost:8080/",
          "height": 34
        }
      },
      "source": [
        "test_predict.shape"
      ],
      "execution_count": 0,
      "outputs": [
        {
          "output_type": "execute_result",
          "data": {
            "text/plain": [
              "(20665,)"
            ]
          },
          "metadata": {
            "tags": []
          },
          "execution_count": 135
        }
      ]
    },
    {
      "cell_type": "code",
      "metadata": {
        "id": "Qf8jmG87-DOZ",
        "colab_type": "code",
        "outputId": "42ebd8eb-c55d-4aeb-9e66-a973efadcfdb",
        "colab": {
          "base_uri": "https://localhost:8080/",
          "height": 67
        }
      },
      "source": [
        "test_predict[:10]"
      ],
      "execution_count": 0,
      "outputs": [
        {
          "output_type": "execute_result",
          "data": {
            "text/plain": [
              "array(['Pinot Noir', 'Malbec', 'Chardonnay', 'Malbec', 'Sangiovese',\n",
              "       'White Blend', 'Bordeaux-style Red Blend', 'Cabernet Sauvignon',\n",
              "       'Red Blend', 'Sparkling Blend'], dtype=object)"
            ]
          },
          "metadata": {
            "tags": []
          },
          "execution_count": 136
        }
      ]
    },
    {
      "cell_type": "code",
      "metadata": {
        "id": "Q-ZcXlgD-jST",
        "colab_type": "code",
        "colab": {}
      },
      "source": [
        "test_data['variety'] = test_predict"
      ],
      "execution_count": 0,
      "outputs": []
    },
    {
      "cell_type": "code",
      "metadata": {
        "id": "AN3BnPjy-9BS",
        "colab_type": "code",
        "outputId": "8f3c073b-6eca-44f5-810b-b27ccf0b0221",
        "colab": {
          "base_uri": "https://localhost:8080/",
          "height": 414
        }
      },
      "source": [
        "test_data.head()"
      ],
      "execution_count": 0,
      "outputs": [
        {
          "output_type": "execute_result",
          "data": {
            "text/html": [
              "<div>\n",
              "<style scoped>\n",
              "    .dataframe tbody tr th:only-of-type {\n",
              "        vertical-align: middle;\n",
              "    }\n",
              "\n",
              "    .dataframe tbody tr th {\n",
              "        vertical-align: top;\n",
              "    }\n",
              "\n",
              "    .dataframe thead th {\n",
              "        text-align: right;\n",
              "    }\n",
              "</style>\n",
              "<table border=\"1\" class=\"dataframe\">\n",
              "  <thead>\n",
              "    <tr style=\"text-align: right;\">\n",
              "      <th></th>\n",
              "      <th>user_name</th>\n",
              "      <th>country</th>\n",
              "      <th>review_title</th>\n",
              "      <th>review_description</th>\n",
              "      <th>designation</th>\n",
              "      <th>points</th>\n",
              "      <th>price</th>\n",
              "      <th>province</th>\n",
              "      <th>region_1</th>\n",
              "      <th>region_2</th>\n",
              "      <th>winery</th>\n",
              "      <th>variety</th>\n",
              "    </tr>\n",
              "  </thead>\n",
              "  <tbody>\n",
              "    <tr>\n",
              "      <th>0</th>\n",
              "      <td>@paulgwine</td>\n",
              "      <td>US</td>\n",
              "      <td>Boedecker Cellars 2011 Athena Pinot Noir (Will...</td>\n",
              "      <td>Nicely differentiated from the companion Stewa...</td>\n",
              "      <td>Athena</td>\n",
              "      <td>88</td>\n",
              "      <td>35.0</td>\n",
              "      <td>Oregon</td>\n",
              "      <td>Willamette Valley</td>\n",
              "      <td>Willamette Valley</td>\n",
              "      <td>Boedecker Cellars</td>\n",
              "      <td>Pinot Noir</td>\n",
              "    </tr>\n",
              "    <tr>\n",
              "      <th>1</th>\n",
              "      <td>@wineschach</td>\n",
              "      <td>Argentina</td>\n",
              "      <td>Mendoza Vineyards 2012 Gran Reserva by Richard...</td>\n",
              "      <td>Charred, smoky, herbal aromas of blackberry tr...</td>\n",
              "      <td>Gran Reserva by Richard Bonvin</td>\n",
              "      <td>90</td>\n",
              "      <td>60.0</td>\n",
              "      <td>Mendoza Province</td>\n",
              "      <td>Mendoza</td>\n",
              "      <td>NaN</td>\n",
              "      <td>Mendoza Vineyards</td>\n",
              "      <td>Malbec</td>\n",
              "    </tr>\n",
              "    <tr>\n",
              "      <th>2</th>\n",
              "      <td>@vboone</td>\n",
              "      <td>US</td>\n",
              "      <td>Prime 2013 Chardonnay (Coombsville)</td>\n",
              "      <td>Slightly sour and funky in earth, this is a re...</td>\n",
              "      <td>NaN</td>\n",
              "      <td>87</td>\n",
              "      <td>38.0</td>\n",
              "      <td>California</td>\n",
              "      <td>Coombsville</td>\n",
              "      <td>Napa</td>\n",
              "      <td>Prime</td>\n",
              "      <td>Chardonnay</td>\n",
              "    </tr>\n",
              "    <tr>\n",
              "      <th>3</th>\n",
              "      <td>@wineschach</td>\n",
              "      <td>Argentina</td>\n",
              "      <td>Bodega Cuarto Dominio 2012 Chento Vineyard Sel...</td>\n",
              "      <td>This concentrated, midnight-black Malbec deliv...</td>\n",
              "      <td>Chento Vineyard Selection</td>\n",
              "      <td>91</td>\n",
              "      <td>20.0</td>\n",
              "      <td>Mendoza Province</td>\n",
              "      <td>Mendoza</td>\n",
              "      <td>NaN</td>\n",
              "      <td>Bodega Cuarto Dominio</td>\n",
              "      <td>Malbec</td>\n",
              "    </tr>\n",
              "    <tr>\n",
              "      <th>4</th>\n",
              "      <td>@kerinokeefe</td>\n",
              "      <td>Italy</td>\n",
              "      <td>SassodiSole 2012  Brunello di Montalcino</td>\n",
              "      <td>Earthy aromas suggesting grilled porcini, leat...</td>\n",
              "      <td>NaN</td>\n",
              "      <td>90</td>\n",
              "      <td>49.0</td>\n",
              "      <td>Tuscany</td>\n",
              "      <td>Brunello di Montalcino</td>\n",
              "      <td>NaN</td>\n",
              "      <td>SassodiSole</td>\n",
              "      <td>Sangiovese</td>\n",
              "    </tr>\n",
              "  </tbody>\n",
              "</table>\n",
              "</div>"
            ],
            "text/plain": [
              "      user_name    country  ...                 winery     variety\n",
              "0   @paulgwine          US  ...      Boedecker Cellars  Pinot Noir\n",
              "1   @wineschach  Argentina  ...      Mendoza Vineyards      Malbec\n",
              "2       @vboone         US  ...                  Prime  Chardonnay\n",
              "3   @wineschach  Argentina  ...  Bodega Cuarto Dominio      Malbec\n",
              "4  @kerinokeefe      Italy  ...            SassodiSole  Sangiovese\n",
              "\n",
              "[5 rows x 12 columns]"
            ]
          },
          "metadata": {
            "tags": []
          },
          "execution_count": 229
        }
      ]
    },
    {
      "cell_type": "code",
      "metadata": {
        "id": "yXQYDal_HG-_",
        "colab_type": "code",
        "colab": {}
      },
      "source": [
        "test_data.to_csv('MLInternshiptest.csv')"
      ],
      "execution_count": 0,
      "outputs": []
    }
  ]
}