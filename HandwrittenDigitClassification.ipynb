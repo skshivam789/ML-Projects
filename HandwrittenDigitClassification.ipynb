{
  "nbformat": 4,
  "nbformat_minor": 0,
  "metadata": {
    "colab": {
      "name": "HandwrittenDigitClassification.ipynb",
      "provenance": [],
      "collapsed_sections": [],
      "mount_file_id": "1AW5K1YHrpbaDHbHAMWLJ7zc9-4_ruxwJ",
      "authorship_tag": "ABX9TyNi3j5hol2LugzEQWf+DiyY",
      "include_colab_link": true
    },
    "kernelspec": {
      "name": "python3",
      "display_name": "Python 3"
    }
  },
  "cells": [
    {
      "cell_type": "markdown",
      "metadata": {
        "id": "view-in-github",
        "colab_type": "text"
      },
      "source": [
        "<a href=\"https://colab.research.google.com/github/skshivam789/ML-Projects/blob/master/HandwrittenDigitClassification.ipynb\" target=\"_parent\"><img src=\"https://colab.research.google.com/assets/colab-badge.svg\" alt=\"Open In Colab\"/></a>"
      ]
    },
    {
      "cell_type": "code",
      "metadata": {
        "id": "9F38UlZ6PZCH",
        "colab_type": "code",
        "colab": {}
      },
      "source": [
        "import os\n",
        "import numpy as np\n",
        "import cv2\n",
        "import pandas as pd"
      ],
      "execution_count": 0,
      "outputs": []
    },
    {
      "cell_type": "code",
      "metadata": {
        "id": "fQlZ3InoqLHo",
        "colab_type": "code",
        "colab": {}
      },
      "source": [
        "img_list = os.listdir('/content/Images/train')  # getting the list of image titles"
      ],
      "execution_count": 0,
      "outputs": []
    },
    {
      "cell_type": "code",
      "metadata": {
        "id": "YD_uqhtqqWoh",
        "colab_type": "code",
        "outputId": "594ca1cf-0734-4bf6-8b38-e376377b015d",
        "colab": {
          "base_uri": "https://localhost:8080/",
          "height": 51
        }
      },
      "source": [
        "print(img_list[:10])\n",
        "print(len(img_list))"
      ],
      "execution_count": 0,
      "outputs": [
        {
          "output_type": "stream",
          "text": [
            "['34839.png', '796.png', '11417.png', '47472.png', '42672.png', '29640.png', '4602.png', '47376.png', '9482.png', '37031.png']\n",
            "49000\n"
          ],
          "name": "stdout"
        }
      ]
    },
    {
      "cell_type": "code",
      "metadata": {
        "id": "M39Zf8lMrKs_",
        "colab_type": "code",
        "outputId": "539696e8-6c03-4521-cccb-6a404efe38b4",
        "colab": {
          "base_uri": "https://localhost:8080/",
          "height": 51
        }
      },
      "source": [
        "img_list.sort()           # sorting the image titles so as to match their correct labels\n",
        "img_list.sort(key=len) \n",
        "print(img_list[:10])\n",
        "print(img_list[48990:])"
      ],
      "execution_count": 0,
      "outputs": [
        {
          "output_type": "stream",
          "text": [
            "['0.png', '1.png', '2.png', '3.png', '4.png', '5.png', '6.png', '7.png', '8.png', '9.png']\n",
            "['48990.png', '48991.png', '48992.png', '48993.png', '48994.png', '48995.png', '48996.png', '48997.png', '48998.png', '48999.png']\n"
          ],
          "name": "stdout"
        }
      ]
    },
    {
      "cell_type": "code",
      "metadata": {
        "id": "G6ecSl-rt-aG",
        "colab_type": "code",
        "colab": {}
      },
      "source": [
        "data=[]\n",
        "for i in img_list :\n",
        "  img = cv2.imread('/content/Images/train/'+i)\n",
        "  img_gray = cv2.cvtColor(img,cv2.COLOR_BGR2GRAY)\n",
        "  img_vec = np.reshape(img_gray,-1)\n",
        "  data.append(img_vec)"
      ],
      "execution_count": 0,
      "outputs": []
    },
    {
      "cell_type": "code",
      "metadata": {
        "id": "_GHMfIDrxfwo",
        "colab_type": "code",
        "outputId": "25a686d4-d36c-4bf0-96ff-4cf9cbe62b35",
        "colab": {
          "base_uri": "https://localhost:8080/",
          "height": 34
        }
      },
      "source": [
        "X = np.array(data)\n",
        "print(X.shape)"
      ],
      "execution_count": 0,
      "outputs": [
        {
          "output_type": "stream",
          "text": [
            "(49000, 784)\n"
          ],
          "name": "stdout"
        }
      ]
    },
    {
      "cell_type": "code",
      "metadata": {
        "id": "TtX5fKTQ2Hyj",
        "colab_type": "code",
        "colab": {}
      },
      "source": [
        "X = X/255 "
      ],
      "execution_count": 0,
      "outputs": []
    },
    {
      "cell_type": "code",
      "metadata": {
        "id": "bQOG3OC9yrCN",
        "colab_type": "code",
        "colab": {}
      },
      "source": [
        "labels = pd.read_csv('train.csv')"
      ],
      "execution_count": 0,
      "outputs": []
    },
    {
      "cell_type": "code",
      "metadata": {
        "id": "0IivnpJJ0Sv6",
        "colab_type": "code",
        "outputId": "958e3242-b6a2-438f-85e7-8b70dbd46584",
        "colab": {
          "base_uri": "https://localhost:8080/",
          "height": 204
        }
      },
      "source": [
        "labels.head()"
      ],
      "execution_count": 0,
      "outputs": [
        {
          "output_type": "execute_result",
          "data": {
            "text/html": [
              "<div>\n",
              "<style scoped>\n",
              "    .dataframe tbody tr th:only-of-type {\n",
              "        vertical-align: middle;\n",
              "    }\n",
              "\n",
              "    .dataframe tbody tr th {\n",
              "        vertical-align: top;\n",
              "    }\n",
              "\n",
              "    .dataframe thead th {\n",
              "        text-align: right;\n",
              "    }\n",
              "</style>\n",
              "<table border=\"1\" class=\"dataframe\">\n",
              "  <thead>\n",
              "    <tr style=\"text-align: right;\">\n",
              "      <th></th>\n",
              "      <th>filename</th>\n",
              "      <th>label</th>\n",
              "    </tr>\n",
              "  </thead>\n",
              "  <tbody>\n",
              "    <tr>\n",
              "      <th>0</th>\n",
              "      <td>0.png</td>\n",
              "      <td>4</td>\n",
              "    </tr>\n",
              "    <tr>\n",
              "      <th>1</th>\n",
              "      <td>1.png</td>\n",
              "      <td>9</td>\n",
              "    </tr>\n",
              "    <tr>\n",
              "      <th>2</th>\n",
              "      <td>2.png</td>\n",
              "      <td>1</td>\n",
              "    </tr>\n",
              "    <tr>\n",
              "      <th>3</th>\n",
              "      <td>3.png</td>\n",
              "      <td>7</td>\n",
              "    </tr>\n",
              "    <tr>\n",
              "      <th>4</th>\n",
              "      <td>4.png</td>\n",
              "      <td>3</td>\n",
              "    </tr>\n",
              "  </tbody>\n",
              "</table>\n",
              "</div>"
            ],
            "text/plain": [
              "  filename  label\n",
              "0    0.png      4\n",
              "1    1.png      9\n",
              "2    2.png      1\n",
              "3    3.png      7\n",
              "4    4.png      3"
            ]
          },
          "metadata": {
            "tags": []
          },
          "execution_count": 10
        }
      ]
    },
    {
      "cell_type": "code",
      "metadata": {
        "id": "t-54E-Yu0liK",
        "colab_type": "code",
        "outputId": "ecf7bfc6-9261-42f3-db69-9bbeb55a76c0",
        "colab": {
          "base_uri": "https://localhost:8080/",
          "height": 204
        }
      },
      "source": [
        "labels['label'].value_counts()"
      ],
      "execution_count": 0,
      "outputs": [
        {
          "output_type": "execute_result",
          "data": {
            "text/plain": [
              "1    5514\n",
              "7    5105\n",
              "3    4999\n",
              "2    4893\n",
              "9    4871\n",
              "0    4832\n",
              "6    4813\n",
              "8    4777\n",
              "4    4777\n",
              "5    4419\n",
              "Name: label, dtype: int64"
            ]
          },
          "metadata": {
            "tags": []
          },
          "execution_count": 11
        }
      ]
    },
    {
      "cell_type": "code",
      "metadata": {
        "id": "p46nOpnf0bX4",
        "colab_type": "code",
        "colab": {}
      },
      "source": [
        "Y = labels['label'].values"
      ],
      "execution_count": 0,
      "outputs": []
    },
    {
      "cell_type": "code",
      "metadata": {
        "id": "QsLwXoVh0hfp",
        "colab_type": "code",
        "colab": {}
      },
      "source": [
        "from sklearn.model_selection import train_test_split "
      ],
      "execution_count": 0,
      "outputs": []
    },
    {
      "cell_type": "code",
      "metadata": {
        "id": "pSUYTCqB1EQT",
        "colab_type": "code",
        "colab": {}
      },
      "source": [
        "X_train,X_test,Y_train,Y_test = train_test_split(X,Y,test_size=0.25,random_state=22,stratify=Y) "
      ],
      "execution_count": 0,
      "outputs": []
    },
    {
      "cell_type": "code",
      "metadata": {
        "id": "y1zWHQN21dxP",
        "colab_type": "code",
        "colab": {}
      },
      "source": [
        "from sklearn.linear_model import LogisticRegression"
      ],
      "execution_count": 0,
      "outputs": []
    },
    {
      "cell_type": "code",
      "metadata": {
        "id": "FupzXZdR11XK",
        "colab_type": "code",
        "colab": {}
      },
      "source": [
        "clf = LogisticRegression(max_iter=1000)"
      ],
      "execution_count": 0,
      "outputs": []
    },
    {
      "cell_type": "code",
      "metadata": {
        "id": "fHSWCSvr14oh",
        "colab_type": "code",
        "outputId": "6a580040-0242-424d-9d68-8f520c6bc6be",
        "colab": {
          "base_uri": "https://localhost:8080/",
          "height": 109
        }
      },
      "source": [
        "clf.fit(X_train,Y_train)"
      ],
      "execution_count": 0,
      "outputs": [
        {
          "output_type": "execute_result",
          "data": {
            "text/plain": [
              "LogisticRegression(C=1.0, class_weight=None, dual=False, fit_intercept=True,\n",
              "                   intercept_scaling=1, l1_ratio=None, max_iter=1000,\n",
              "                   multi_class='auto', n_jobs=None, penalty='l2',\n",
              "                   random_state=None, solver='lbfgs', tol=0.0001, verbose=0,\n",
              "                   warm_start=False)"
            ]
          },
          "metadata": {
            "tags": []
          },
          "execution_count": 55
        }
      ]
    },
    {
      "cell_type": "code",
      "metadata": {
        "id": "SY1GKLRw19Mt",
        "colab_type": "code",
        "outputId": "f1e5a8e2-196c-4a0c-affc-70b1c3cd5305",
        "colab": {
          "base_uri": "https://localhost:8080/",
          "height": 35
        }
      },
      "source": [
        "clf.score(X_test,Y_test)"
      ],
      "execution_count": 0,
      "outputs": [
        {
          "output_type": "execute_result",
          "data": {
            "text/plain": [
              "0.9188571428571428"
            ]
          },
          "metadata": {
            "tags": []
          },
          "execution_count": 56
        }
      ]
    },
    {
      "cell_type": "code",
      "metadata": {
        "id": "Tfok9M1F3NCn",
        "colab_type": "code",
        "colab": {}
      },
      "source": [
        "from sklearn.ensemble import RandomForestClassifier"
      ],
      "execution_count": 0,
      "outputs": []
    },
    {
      "cell_type": "code",
      "metadata": {
        "id": "wNdAzoyR3bDa",
        "colab_type": "code",
        "colab": {}
      },
      "source": [
        "rfclf = RandomForestClassifier()"
      ],
      "execution_count": 0,
      "outputs": []
    },
    {
      "cell_type": "code",
      "metadata": {
        "id": "iZyLT14Q3gUb",
        "colab_type": "code",
        "outputId": "2a3c1cf1-40e5-48a7-8e9a-61ffaebe3c34",
        "colab": {
          "base_uri": "https://localhost:8080/",
          "height": 164
        }
      },
      "source": [
        "rfclf.fit(X_train,Y_train)"
      ],
      "execution_count": 0,
      "outputs": [
        {
          "output_type": "execute_result",
          "data": {
            "text/plain": [
              "RandomForestClassifier(bootstrap=True, ccp_alpha=0.0, class_weight=None,\n",
              "                       criterion='gini', max_depth=None, max_features='auto',\n",
              "                       max_leaf_nodes=None, max_samples=None,\n",
              "                       min_impurity_decrease=0.0, min_impurity_split=None,\n",
              "                       min_samples_leaf=1, min_samples_split=2,\n",
              "                       min_weight_fraction_leaf=0.0, n_estimators=100,\n",
              "                       n_jobs=None, oob_score=False, random_state=None,\n",
              "                       verbose=0, warm_start=False)"
            ]
          },
          "metadata": {
            "tags": []
          },
          "execution_count": 59
        }
      ]
    },
    {
      "cell_type": "code",
      "metadata": {
        "id": "sn3JZ1pW3kbT",
        "colab_type": "code",
        "outputId": "24682e0b-6b77-4725-b644-0f7d5fdae040",
        "colab": {
          "base_uri": "https://localhost:8080/",
          "height": 35
        }
      },
      "source": [
        "rfclf.score(X_test,Y_test)"
      ],
      "execution_count": 0,
      "outputs": [
        {
          "output_type": "execute_result",
          "data": {
            "text/plain": [
              "0.9651428571428572"
            ]
          },
          "metadata": {
            "tags": []
          },
          "execution_count": 60
        }
      ]
    },
    {
      "cell_type": "code",
      "metadata": {
        "id": "Bzvpzm2c3y8T",
        "colab_type": "code",
        "colab": {}
      },
      "source": [
        "from sklearn.model_selection import GridSearchCV"
      ],
      "execution_count": 0,
      "outputs": []
    },
    {
      "cell_type": "code",
      "metadata": {
        "id": "gxMUAVSK5CeM",
        "colab_type": "code",
        "colab": {}
      },
      "source": [
        "params_grid = {'max_depth':[20,50,100],'max_leaf_nodes':[20,40,80],'n_estimators':[50,100,150]}"
      ],
      "execution_count": 0,
      "outputs": []
    },
    {
      "cell_type": "code",
      "metadata": {
        "id": "QP9FQ0QK5wja",
        "colab_type": "code",
        "colab": {}
      },
      "source": [
        " grid_clf=GridSearchCV(estimator=RandomForestClassifier(),param_grid=params_grid)"
      ],
      "execution_count": 0,
      "outputs": []
    },
    {
      "cell_type": "code",
      "metadata": {
        "id": "SgRebqif6Zvt",
        "colab_type": "code",
        "outputId": "3fd93e5c-ea20-42b0-8305-8384527caffb",
        "colab": {
          "base_uri": "https://localhost:8080/",
          "height": 421
        }
      },
      "source": [
        "grid_clf.fit(X,Y)"
      ],
      "execution_count": 0,
      "outputs": [
        {
          "output_type": "execute_result",
          "data": {
            "text/plain": [
              "GridSearchCV(cv=None, error_score=nan,\n",
              "             estimator=RandomForestClassifier(bootstrap=True, ccp_alpha=0.0,\n",
              "                                              class_weight=None,\n",
              "                                              criterion='gini', max_depth=None,\n",
              "                                              max_features='auto',\n",
              "                                              max_leaf_nodes=None,\n",
              "                                              max_samples=None,\n",
              "                                              min_impurity_decrease=0.0,\n",
              "                                              min_impurity_split=None,\n",
              "                                              min_samples_leaf=1,\n",
              "                                              min_samples_split=2,\n",
              "                                              min_weight_fraction_leaf=0.0,\n",
              "                                              n_estimators=100, n_jobs=None,\n",
              "                                              oob_score=False,\n",
              "                                              random_state=None, verbose=0,\n",
              "                                              warm_start=False),\n",
              "             iid='deprecated', n_jobs=None,\n",
              "             param_grid={'max_depth': [20, 50, 100],\n",
              "                         'max_leaf_nodes': [20, 40, 80],\n",
              "                         'n_estimators': [50, 100, 150]},\n",
              "             pre_dispatch='2*n_jobs', refit=True, return_train_score=False,\n",
              "             scoring=None, verbose=0)"
            ]
          },
          "metadata": {
            "tags": []
          },
          "execution_count": 65
        }
      ]
    },
    {
      "cell_type": "code",
      "metadata": {
        "id": "nB7RxeWY6uxQ",
        "colab_type": "code",
        "outputId": "f2958051-93f1-4b72-c9e5-becdea6f1274",
        "colab": {
          "base_uri": "https://localhost:8080/",
          "height": 35
        }
      },
      "source": [
        "grid_clf.best_score_"
      ],
      "execution_count": 0,
      "outputs": [
        {
          "output_type": "execute_result",
          "data": {
            "text/plain": [
              "0.9065918367346939"
            ]
          },
          "metadata": {
            "tags": []
          },
          "execution_count": 66
        }
      ]
    },
    {
      "cell_type": "code",
      "metadata": {
        "id": "G9_R74GeCQqt",
        "colab_type": "code",
        "outputId": "52940ba6-f15e-48c6-8e6b-792a5fdfadd6",
        "colab": {
          "base_uri": "https://localhost:8080/",
          "height": 35
        }
      },
      "source": [
        "grid_clf.best_params_"
      ],
      "execution_count": 0,
      "outputs": [
        {
          "output_type": "execute_result",
          "data": {
            "text/plain": [
              "{'max_depth': 50, 'max_leaf_nodes': 80, 'n_estimators': 150}"
            ]
          },
          "metadata": {
            "tags": []
          },
          "execution_count": 67
        }
      ]
    },
    {
      "cell_type": "code",
      "metadata": {
        "id": "mYWrjukRCYMQ",
        "colab_type": "code",
        "colab": {}
      },
      "source": [
        "clf2 = RandomForestClassifier(max_depth =50,max_leaf_nodes=120,n_estimators=150)"
      ],
      "execution_count": 0,
      "outputs": []
    },
    {
      "cell_type": "code",
      "metadata": {
        "id": "I8gAgc1NCp3m",
        "colab_type": "code",
        "outputId": "150c50a0-0971-4b1c-e6ee-87f74fbd6785",
        "colab": {
          "base_uri": "https://localhost:8080/",
          "height": 164
        }
      },
      "source": [
        "clf2.fit(X_train,Y_train)"
      ],
      "execution_count": 0,
      "outputs": [
        {
          "output_type": "execute_result",
          "data": {
            "text/plain": [
              "RandomForestClassifier(bootstrap=True, ccp_alpha=0.0, class_weight=None,\n",
              "                       criterion='gini', max_depth=50, max_features='auto',\n",
              "                       max_leaf_nodes=120, max_samples=None,\n",
              "                       min_impurity_decrease=0.0, min_impurity_split=None,\n",
              "                       min_samples_leaf=1, min_samples_split=2,\n",
              "                       min_weight_fraction_leaf=0.0, n_estimators=150,\n",
              "                       n_jobs=None, oob_score=False, random_state=None,\n",
              "                       verbose=0, warm_start=False)"
            ]
          },
          "metadata": {
            "tags": []
          },
          "execution_count": 69
        }
      ]
    },
    {
      "cell_type": "code",
      "metadata": {
        "id": "CFVK5i5SCuR3",
        "colab_type": "code",
        "outputId": "c1831259-8fac-4890-b07b-12e61b07349c",
        "colab": {
          "base_uri": "https://localhost:8080/",
          "height": 35
        }
      },
      "source": [
        "clf2.score(X_test,Y_test)"
      ],
      "execution_count": 0,
      "outputs": [
        {
          "output_type": "execute_result",
          "data": {
            "text/plain": [
              "0.9179591836734694"
            ]
          },
          "metadata": {
            "tags": []
          },
          "execution_count": 70
        }
      ]
    },
    {
      "cell_type": "code",
      "metadata": {
        "id": "6d3C0iqwDOwL",
        "colab_type": "code",
        "colab": {}
      },
      "source": [
        "clf3 = RandomForestClassifier(max_depth=50,n_estimators=150)"
      ],
      "execution_count": 0,
      "outputs": []
    },
    {
      "cell_type": "code",
      "metadata": {
        "id": "8QDOa1pNDXtm",
        "colab_type": "code",
        "outputId": "9cb8d9a3-e9a4-4dd3-e3b6-b50f9b2a64ec",
        "colab": {
          "base_uri": "https://localhost:8080/",
          "height": 164
        }
      },
      "source": [
        "clf3.fit(X_train,Y_train)"
      ],
      "execution_count": 0,
      "outputs": [
        {
          "output_type": "execute_result",
          "data": {
            "text/plain": [
              "RandomForestClassifier(bootstrap=True, ccp_alpha=0.0, class_weight=None,\n",
              "                       criterion='gini', max_depth=50, max_features='auto',\n",
              "                       max_leaf_nodes=None, max_samples=None,\n",
              "                       min_impurity_decrease=0.0, min_impurity_split=None,\n",
              "                       min_samples_leaf=1, min_samples_split=2,\n",
              "                       min_weight_fraction_leaf=0.0, n_estimators=150,\n",
              "                       n_jobs=None, oob_score=False, random_state=None,\n",
              "                       verbose=0, warm_start=False)"
            ]
          },
          "metadata": {
            "tags": []
          },
          "execution_count": 75
        }
      ]
    },
    {
      "cell_type": "code",
      "metadata": {
        "id": "wWG01ALEDbzi",
        "colab_type": "code",
        "outputId": "0a3d2a13-f148-4383-a4b2-f3095d4985f8",
        "colab": {
          "base_uri": "https://localhost:8080/",
          "height": 35
        }
      },
      "source": [
        "clf3.score(X_test,Y_test)"
      ],
      "execution_count": 0,
      "outputs": [
        {
          "output_type": "execute_result",
          "data": {
            "text/plain": [
              "0.9655510204081633"
            ]
          },
          "metadata": {
            "tags": []
          },
          "execution_count": 76
        }
      ]
    },
    {
      "cell_type": "code",
      "metadata": {
        "id": "eLw_RSzRDrv1",
        "colab_type": "code",
        "colab": {}
      },
      "source": [
        "clf4 = RandomForestClassifier(max_depth=30,n_estimators=100)"
      ],
      "execution_count": 0,
      "outputs": []
    },
    {
      "cell_type": "code",
      "metadata": {
        "id": "w7BT_6ELEThh",
        "colab_type": "code",
        "outputId": "df9bde3a-93d0-4993-c758-69cf4146a0e7",
        "colab": {
          "base_uri": "https://localhost:8080/",
          "height": 164
        }
      },
      "source": [
        "clf4.fit(X_train,Y_train)"
      ],
      "execution_count": 0,
      "outputs": [
        {
          "output_type": "execute_result",
          "data": {
            "text/plain": [
              "RandomForestClassifier(bootstrap=True, ccp_alpha=0.0, class_weight=None,\n",
              "                       criterion='gini', max_depth=30, max_features='auto',\n",
              "                       max_leaf_nodes=None, max_samples=None,\n",
              "                       min_impurity_decrease=0.0, min_impurity_split=None,\n",
              "                       min_samples_leaf=1, min_samples_split=2,\n",
              "                       min_weight_fraction_leaf=0.0, n_estimators=100,\n",
              "                       n_jobs=None, oob_score=False, random_state=None,\n",
              "                       verbose=0, warm_start=False)"
            ]
          },
          "metadata": {
            "tags": []
          },
          "execution_count": 82
        }
      ]
    },
    {
      "cell_type": "code",
      "metadata": {
        "id": "EKDN-s4IEZtt",
        "colab_type": "code",
        "outputId": "b373dfde-ade4-4d1a-fc28-30d0d25285f6",
        "colab": {
          "base_uri": "https://localhost:8080/",
          "height": 35
        }
      },
      "source": [
        "clf4.score(X_test,Y_test)"
      ],
      "execution_count": 0,
      "outputs": [
        {
          "output_type": "execute_result",
          "data": {
            "text/plain": [
              "0.9652244897959184"
            ]
          },
          "metadata": {
            "tags": []
          },
          "execution_count": 83
        }
      ]
    },
    {
      "cell_type": "code",
      "metadata": {
        "id": "b7ivxSeyEmK_",
        "colab_type": "code",
        "colab": {}
      },
      "source": [
        "from sklearn.neighbors import KNeighborsClassifier \n"
      ],
      "execution_count": 0,
      "outputs": []
    },
    {
      "cell_type": "code",
      "metadata": {
        "id": "CEnX8oq2FFdg",
        "colab_type": "code",
        "outputId": "7fdb2933-efad-4413-ba4c-ee54c713b87d",
        "colab": {
          "base_uri": "https://localhost:8080/",
          "height": 72
        }
      },
      "source": [
        "for k in [3,5,7] :\n",
        "  clf = KNeighborsClassifier(n_neighbors=k)\n",
        "  clf.fit(X_train,Y_train)\n",
        "  print('for n_neighbors = '+ str(k)+' score = ',clf.score(X_test,Y_test)) "
      ],
      "execution_count": 0,
      "outputs": [
        {
          "output_type": "stream",
          "text": [
            "for n_neighbors = 3 score =  0.9662857142857143\n",
            "for n_neighbors = 5 score =  0.9670204081632653\n",
            "for n_neighbors = 7 score =  0.9646530612244898\n"
          ],
          "name": "stdout"
        }
      ]
    },
    {
      "cell_type": "code",
      "metadata": {
        "id": "oAnSXHTeF0HO",
        "colab_type": "code",
        "colab": {}
      },
      "source": [
        "import tensorflow as tf\n",
        "from tensorflow import keras"
      ],
      "execution_count": 0,
      "outputs": []
    },
    {
      "cell_type": "code",
      "metadata": {
        "id": "Lv-9D4YdH3wQ",
        "colab_type": "code",
        "colab": {}
      },
      "source": [
        "from sklearn.preprocessing import LabelBinarizer"
      ],
      "execution_count": 0,
      "outputs": []
    },
    {
      "cell_type": "code",
      "metadata": {
        "id": "BhB8zA3uIeMe",
        "colab_type": "code",
        "colab": {}
      },
      "source": [
        "binarizer = LabelBinarizer()"
      ],
      "execution_count": 0,
      "outputs": []
    },
    {
      "cell_type": "code",
      "metadata": {
        "id": "gl5WZU6-JChc",
        "colab_type": "code",
        "outputId": "aff7c6b5-6389-4867-95b8-f5a044b2fb13",
        "colab": {
          "base_uri": "https://localhost:8080/",
          "height": 34
        }
      },
      "source": [
        "binarizer.fit([0,1,2,3,4,5,6,7,8,9])"
      ],
      "execution_count": 0,
      "outputs": [
        {
          "output_type": "execute_result",
          "data": {
            "text/plain": [
              "LabelBinarizer(neg_label=0, pos_label=1, sparse_output=False)"
            ]
          },
          "metadata": {
            "tags": []
          },
          "execution_count": 18
        }
      ]
    },
    {
      "cell_type": "code",
      "metadata": {
        "id": "wMHO4DIsJHcM",
        "colab_type": "code",
        "colab": {}
      },
      "source": [
        "Y_train_vec = binarizer.transform(Y_train)"
      ],
      "execution_count": 0,
      "outputs": []
    },
    {
      "cell_type": "code",
      "metadata": {
        "id": "U51Qj3phJSQl",
        "colab_type": "code",
        "outputId": "85abd261-4f5d-437a-db60-2685df9e290c",
        "colab": {
          "base_uri": "https://localhost:8080/",
          "height": 34
        }
      },
      "source": [
        "Y_train_vec[0]"
      ],
      "execution_count": 0,
      "outputs": [
        {
          "output_type": "execute_result",
          "data": {
            "text/plain": [
              "array([0, 0, 0, 1, 0, 0, 0, 0, 0, 0])"
            ]
          },
          "metadata": {
            "tags": []
          },
          "execution_count": 20
        }
      ]
    },
    {
      "cell_type": "code",
      "metadata": {
        "id": "qMEEjHlbJUl5",
        "colab_type": "code",
        "colab": {}
      },
      "source": [
        "Y_test_vec = binarizer.transform(Y_test)"
      ],
      "execution_count": 0,
      "outputs": []
    },
    {
      "cell_type": "code",
      "metadata": {
        "id": "Evgo5TziKH8N",
        "colab_type": "code",
        "colab": {}
      },
      "source": [
        ""
      ],
      "execution_count": 0,
      "outputs": []
    },
    {
      "cell_type": "code",
      "metadata": {
        "id": "SeBPdDpcJbql",
        "colab_type": "code",
        "colab": {}
      },
      "source": [
        "model = keras.models.Sequential()\n",
        "model.add(keras.layers.Dense(10,input_shape=(784,),name='hidden1',activation='elu'))\n",
        "model.add(keras.layers.Dense(10,activation='softmax',name='output'))"
      ],
      "execution_count": 0,
      "outputs": []
    },
    {
      "cell_type": "code",
      "metadata": {
        "id": "l0s1BHh4NY6P",
        "colab_type": "code",
        "colab": {}
      },
      "source": [
        "model.compile(optimizer='Adam',loss='categorical_crossentropy',metrics=['accuracy'])"
      ],
      "execution_count": 0,
      "outputs": []
    },
    {
      "cell_type": "code",
      "metadata": {
        "id": "rqzH6pqDNzmI",
        "colab_type": "code",
        "outputId": "6bd48ef3-2dfa-41e4-a08d-51b31120c061",
        "colab": {
          "base_uri": "https://localhost:8080/",
          "height": 237
        }
      },
      "source": [
        "model.summary()"
      ],
      "execution_count": 0,
      "outputs": [
        {
          "output_type": "stream",
          "text": [
            "Model: \"sequential\"\n",
            "_________________________________________________________________\n",
            "Layer (type)                 Output Shape              Param #   \n",
            "=================================================================\n",
            "hidden1 (Dense)              (None, 784, 10)           20        \n",
            "_________________________________________________________________\n",
            "output (Dense)               (None, 784, 10)           110       \n",
            "=================================================================\n",
            "Total params: 130\n",
            "Trainable params: 130\n",
            "Non-trainable params: 0\n",
            "_________________________________________________________________\n"
          ],
          "name": "stdout"
        }
      ]
    },
    {
      "cell_type": "code",
      "metadata": {
        "id": "OYysDqKIN2GG",
        "colab_type": "code",
        "outputId": "2d10d16d-cbd7-4ef3-c6fc-2e548d9bcb4b",
        "colab": {
          "base_uri": "https://localhost:8080/",
          "height": 1000
        }
      },
      "source": [
        "model.fit(X_train,Y_train_vec,batch_size=128,epochs=50,validation_split=0.2)"
      ],
      "execution_count": 0,
      "outputs": [
        {
          "output_type": "stream",
          "text": [
            "Epoch 1/50\n",
            "230/230 [==============================] - 1s 3ms/step - loss: 0.1184 - accuracy: 0.9663 - val_loss: 0.2962 - val_accuracy: 0.9244\n",
            "Epoch 2/50\n",
            "230/230 [==============================] - 1s 3ms/step - loss: 0.1180 - accuracy: 0.9664 - val_loss: 0.2975 - val_accuracy: 0.9242\n",
            "Epoch 3/50\n",
            "230/230 [==============================] - 1s 3ms/step - loss: 0.1187 - accuracy: 0.9658 - val_loss: 0.2981 - val_accuracy: 0.9249\n",
            "Epoch 4/50\n",
            "230/230 [==============================] - 1s 3ms/step - loss: 0.1170 - accuracy: 0.9663 - val_loss: 0.2958 - val_accuracy: 0.9252\n",
            "Epoch 5/50\n",
            "230/230 [==============================] - 1s 3ms/step - loss: 0.1165 - accuracy: 0.9664 - val_loss: 0.2975 - val_accuracy: 0.9250\n",
            "Epoch 6/50\n",
            "230/230 [==============================] - 1s 3ms/step - loss: 0.1158 - accuracy: 0.9671 - val_loss: 0.2979 - val_accuracy: 0.9256\n",
            "Epoch 7/50\n",
            "230/230 [==============================] - 1s 3ms/step - loss: 0.1153 - accuracy: 0.9677 - val_loss: 0.2971 - val_accuracy: 0.9269\n",
            "Epoch 8/50\n",
            "230/230 [==============================] - 1s 3ms/step - loss: 0.1151 - accuracy: 0.9674 - val_loss: 0.3005 - val_accuracy: 0.9250\n",
            "Epoch 9/50\n",
            "230/230 [==============================] - 1s 3ms/step - loss: 0.1151 - accuracy: 0.9661 - val_loss: 0.3014 - val_accuracy: 0.9257\n",
            "Epoch 10/50\n",
            "230/230 [==============================] - 1s 3ms/step - loss: 0.1136 - accuracy: 0.9670 - val_loss: 0.2987 - val_accuracy: 0.9254\n",
            "Epoch 11/50\n",
            "230/230 [==============================] - 1s 3ms/step - loss: 0.1139 - accuracy: 0.9676 - val_loss: 0.3047 - val_accuracy: 0.9222\n",
            "Epoch 12/50\n",
            "230/230 [==============================] - 1s 3ms/step - loss: 0.1135 - accuracy: 0.9673 - val_loss: 0.3035 - val_accuracy: 0.9257\n",
            "Epoch 13/50\n",
            "230/230 [==============================] - 1s 3ms/step - loss: 0.1125 - accuracy: 0.9669 - val_loss: 0.3043 - val_accuracy: 0.9245\n",
            "Epoch 14/50\n",
            "230/230 [==============================] - 1s 3ms/step - loss: 0.1113 - accuracy: 0.9680 - val_loss: 0.3045 - val_accuracy: 0.9254\n",
            "Epoch 15/50\n",
            "230/230 [==============================] - 1s 3ms/step - loss: 0.1112 - accuracy: 0.9679 - val_loss: 0.3067 - val_accuracy: 0.9239\n",
            "Epoch 16/50\n",
            "230/230 [==============================] - 1s 3ms/step - loss: 0.1106 - accuracy: 0.9682 - val_loss: 0.3073 - val_accuracy: 0.9246\n",
            "Epoch 17/50\n",
            "230/230 [==============================] - 1s 3ms/step - loss: 0.1117 - accuracy: 0.9675 - val_loss: 0.3057 - val_accuracy: 0.9238\n",
            "Epoch 18/50\n",
            "230/230 [==============================] - 1s 3ms/step - loss: 0.1101 - accuracy: 0.9681 - val_loss: 0.3067 - val_accuracy: 0.9249\n",
            "Epoch 19/50\n",
            "230/230 [==============================] - 1s 3ms/step - loss: 0.1099 - accuracy: 0.9684 - val_loss: 0.3074 - val_accuracy: 0.9256\n",
            "Epoch 20/50\n",
            "230/230 [==============================] - 1s 3ms/step - loss: 0.1097 - accuracy: 0.9685 - val_loss: 0.3081 - val_accuracy: 0.9259\n",
            "Epoch 21/50\n",
            "230/230 [==============================] - 1s 3ms/step - loss: 0.1091 - accuracy: 0.9687 - val_loss: 0.3091 - val_accuracy: 0.9252\n",
            "Epoch 22/50\n",
            "230/230 [==============================] - 1s 3ms/step - loss: 0.1082 - accuracy: 0.9694 - val_loss: 0.3076 - val_accuracy: 0.9245\n",
            "Epoch 23/50\n",
            "230/230 [==============================] - 1s 3ms/step - loss: 0.1072 - accuracy: 0.9691 - val_loss: 0.3173 - val_accuracy: 0.9234\n",
            "Epoch 24/50\n",
            "230/230 [==============================] - 1s 3ms/step - loss: 0.1078 - accuracy: 0.9692 - val_loss: 0.3122 - val_accuracy: 0.9238\n",
            "Epoch 25/50\n",
            "230/230 [==============================] - 1s 3ms/step - loss: 0.1068 - accuracy: 0.9695 - val_loss: 0.3109 - val_accuracy: 0.9238\n",
            "Epoch 26/50\n",
            "230/230 [==============================] - 1s 3ms/step - loss: 0.1069 - accuracy: 0.9696 - val_loss: 0.3130 - val_accuracy: 0.9239\n",
            "Epoch 27/50\n",
            "230/230 [==============================] - 1s 3ms/step - loss: 0.1058 - accuracy: 0.9693 - val_loss: 0.3137 - val_accuracy: 0.9249\n",
            "Epoch 28/50\n",
            "230/230 [==============================] - 1s 3ms/step - loss: 0.1050 - accuracy: 0.9699 - val_loss: 0.3158 - val_accuracy: 0.9230\n",
            "Epoch 29/50\n",
            "230/230 [==============================] - 1s 3ms/step - loss: 0.1057 - accuracy: 0.9690 - val_loss: 0.3131 - val_accuracy: 0.9257\n",
            "Epoch 30/50\n",
            "230/230 [==============================] - 1s 3ms/step - loss: 0.1046 - accuracy: 0.9695 - val_loss: 0.3180 - val_accuracy: 0.9249\n",
            "Epoch 31/50\n",
            "230/230 [==============================] - 1s 3ms/step - loss: 0.1051 - accuracy: 0.9697 - val_loss: 0.3185 - val_accuracy: 0.9239\n",
            "Epoch 32/50\n",
            "230/230 [==============================] - 1s 3ms/step - loss: 0.1038 - accuracy: 0.9697 - val_loss: 0.3166 - val_accuracy: 0.9248\n",
            "Epoch 33/50\n",
            "230/230 [==============================] - 1s 3ms/step - loss: 0.1039 - accuracy: 0.9697 - val_loss: 0.3160 - val_accuracy: 0.9257\n",
            "Epoch 34/50\n",
            "230/230 [==============================] - 1s 3ms/step - loss: 0.1038 - accuracy: 0.9689 - val_loss: 0.3243 - val_accuracy: 0.9224\n",
            "Epoch 35/50\n",
            "230/230 [==============================] - 1s 3ms/step - loss: 0.1031 - accuracy: 0.9705 - val_loss: 0.3212 - val_accuracy: 0.9242\n",
            "Epoch 36/50\n",
            "230/230 [==============================] - 1s 3ms/step - loss: 0.1027 - accuracy: 0.9701 - val_loss: 0.3203 - val_accuracy: 0.9246\n",
            "Epoch 37/50\n",
            "230/230 [==============================] - 1s 3ms/step - loss: 0.1018 - accuracy: 0.9704 - val_loss: 0.3211 - val_accuracy: 0.9250\n",
            "Epoch 38/50\n",
            "230/230 [==============================] - 1s 3ms/step - loss: 0.1013 - accuracy: 0.9705 - val_loss: 0.3205 - val_accuracy: 0.9244\n",
            "Epoch 39/50\n",
            "230/230 [==============================] - 1s 3ms/step - loss: 0.1011 - accuracy: 0.9720 - val_loss: 0.3196 - val_accuracy: 0.9249\n",
            "Epoch 40/50\n",
            "230/230 [==============================] - 1s 3ms/step - loss: 0.1008 - accuracy: 0.9709 - val_loss: 0.3226 - val_accuracy: 0.9245\n",
            "Epoch 41/50\n",
            "230/230 [==============================] - 1s 3ms/step - loss: 0.1011 - accuracy: 0.9706 - val_loss: 0.3208 - val_accuracy: 0.9246\n",
            "Epoch 42/50\n",
            "230/230 [==============================] - 1s 3ms/step - loss: 0.1005 - accuracy: 0.9711 - val_loss: 0.3227 - val_accuracy: 0.9242\n",
            "Epoch 43/50\n",
            "230/230 [==============================] - 1s 3ms/step - loss: 0.0996 - accuracy: 0.9711 - val_loss: 0.3247 - val_accuracy: 0.9242\n",
            "Epoch 44/50\n",
            "230/230 [==============================] - 1s 3ms/step - loss: 0.0993 - accuracy: 0.9715 - val_loss: 0.3234 - val_accuracy: 0.9249\n",
            "Epoch 45/50\n",
            "230/230 [==============================] - 1s 3ms/step - loss: 0.0991 - accuracy: 0.9712 - val_loss: 0.3271 - val_accuracy: 0.9257\n",
            "Epoch 46/50\n",
            "230/230 [==============================] - 1s 3ms/step - loss: 0.0987 - accuracy: 0.9717 - val_loss: 0.3270 - val_accuracy: 0.9252\n",
            "Epoch 47/50\n",
            "230/230 [==============================] - 1s 3ms/step - loss: 0.0986 - accuracy: 0.9705 - val_loss: 0.3270 - val_accuracy: 0.9230\n",
            "Epoch 48/50\n",
            "230/230 [==============================] - 1s 3ms/step - loss: 0.0976 - accuracy: 0.9722 - val_loss: 0.3302 - val_accuracy: 0.9222\n",
            "Epoch 49/50\n",
            "230/230 [==============================] - 1s 3ms/step - loss: 0.0981 - accuracy: 0.9710 - val_loss: 0.3279 - val_accuracy: 0.9241\n",
            "Epoch 50/50\n",
            "230/230 [==============================] - 1s 3ms/step - loss: 0.0975 - accuracy: 0.9712 - val_loss: 0.3330 - val_accuracy: 0.9231\n"
          ],
          "name": "stdout"
        },
        {
          "output_type": "execute_result",
          "data": {
            "text/plain": [
              "<tensorflow.python.keras.callbacks.History at 0x7fe5b75cc9b0>"
            ]
          },
          "metadata": {
            "tags": []
          },
          "execution_count": 50
        }
      ]
    },
    {
      "cell_type": "code",
      "metadata": {
        "id": "JEmWUbtAONvZ",
        "colab_type": "code",
        "outputId": "2bbbd549-a1e7-4374-fe39-a69ee4617486",
        "colab": {
          "base_uri": "https://localhost:8080/",
          "height": 35
        }
      },
      "source": [
        "test_loss,test_acc = model.evaluate(X_test,Y_test_vec)"
      ],
      "execution_count": 0,
      "outputs": [
        {
          "output_type": "stream",
          "text": [
            "383/383 [==============================] - 0s 1ms/step - loss: 0.2791 - accuracy: 0.9325\n"
          ],
          "name": "stdout"
        }
      ]
    },
    {
      "cell_type": "code",
      "metadata": {
        "id": "HBV1A3LqjXfa",
        "colab_type": "code",
        "colab": {}
      },
      "source": [
        "from keras.regularizers import l2"
      ],
      "execution_count": 0,
      "outputs": []
    },
    {
      "cell_type": "code",
      "metadata": {
        "id": "BBj7DCWVOd7O",
        "colab_type": "code",
        "colab": {}
      },
      "source": [
        "model = keras.models.Sequential()\n",
        "model.add(keras.layers.Dense(20,input_shape=(784,),name='hidden1',activation='elu',kernel_regularizer=l2(0.01)))\n",
        "model.add(keras.layers.Dense(10,input_shape=(784,),name='hidden2',activation='elu',kernel_regularizer=l2(0.01)))\n",
        "model.add(keras.layers.Dense(10,activation='softmax',name='output'))"
      ],
      "execution_count": 0,
      "outputs": []
    },
    {
      "cell_type": "code",
      "metadata": {
        "id": "RNLZl912P3Ye",
        "colab_type": "code",
        "outputId": "c4a00356-ffa0-4828-9594-8f4326f2ce68",
        "colab": {
          "base_uri": "https://localhost:8080/",
          "height": 274
        }
      },
      "source": [
        "model.summary()"
      ],
      "execution_count": 0,
      "outputs": [
        {
          "output_type": "stream",
          "text": [
            "Model: \"sequential_5\"\n",
            "_________________________________________________________________\n",
            "Layer (type)                 Output Shape              Param #   \n",
            "=================================================================\n",
            "hidden1 (Dense)              (None, 20)                15700     \n",
            "_________________________________________________________________\n",
            "hidden2 (Dense)              (None, 10)                210       \n",
            "_________________________________________________________________\n",
            "output (Dense)               (None, 10)                110       \n",
            "=================================================================\n",
            "Total params: 16,020\n",
            "Trainable params: 16,020\n",
            "Non-trainable params: 0\n",
            "_________________________________________________________________\n"
          ],
          "name": "stdout"
        }
      ]
    },
    {
      "cell_type": "code",
      "metadata": {
        "id": "yPVjn9UTR5Fd",
        "colab_type": "code",
        "colab": {}
      },
      "source": [
        "model.compile(optimizer='Adam',loss='categorical_crossentropy',metrics=['accuracy'])"
      ],
      "execution_count": 0,
      "outputs": []
    },
    {
      "cell_type": "code",
      "metadata": {
        "id": "m5IZ-htgSN4e",
        "colab_type": "code",
        "outputId": "27db2610-8ff4-4d0e-8c5e-0639b36903e0",
        "colab": {
          "base_uri": "https://localhost:8080/",
          "height": 1000
        }
      },
      "source": [
        "model.fit(X_train,Y_train_vec,batch_size=64,epochs=50,validation_split=0.2)"
      ],
      "execution_count": 0,
      "outputs": [
        {
          "output_type": "stream",
          "text": [
            "Epoch 1/50\n",
            "460/460 [==============================] - 1s 2ms/step - loss: 0.3935 - accuracy: 0.9281 - val_loss: 0.4091 - val_accuracy: 0.9241\n",
            "Epoch 2/50\n",
            "460/460 [==============================] - 1s 2ms/step - loss: 0.3773 - accuracy: 0.9321 - val_loss: 0.3894 - val_accuracy: 0.9307\n",
            "Epoch 3/50\n",
            "460/460 [==============================] - 1s 2ms/step - loss: 0.3691 - accuracy: 0.9327 - val_loss: 0.3850 - val_accuracy: 0.9278\n",
            "Epoch 4/50\n",
            "460/460 [==============================] - 1s 2ms/step - loss: 0.3652 - accuracy: 0.9352 - val_loss: 0.4049 - val_accuracy: 0.9227\n",
            "Epoch 5/50\n",
            "460/460 [==============================] - 1s 2ms/step - loss: 0.3618 - accuracy: 0.9361 - val_loss: 0.3956 - val_accuracy: 0.9267\n",
            "Epoch 6/50\n",
            "460/460 [==============================] - 1s 2ms/step - loss: 0.3585 - accuracy: 0.9355 - val_loss: 0.3803 - val_accuracy: 0.9325\n",
            "Epoch 7/50\n",
            "460/460 [==============================] - 1s 2ms/step - loss: 0.3580 - accuracy: 0.9352 - val_loss: 0.3775 - val_accuracy: 0.9316\n",
            "Epoch 8/50\n",
            "460/460 [==============================] - 1s 2ms/step - loss: 0.3548 - accuracy: 0.9361 - val_loss: 0.3786 - val_accuracy: 0.9312\n",
            "Epoch 9/50\n",
            "460/460 [==============================] - 1s 2ms/step - loss: 0.3501 - accuracy: 0.9381 - val_loss: 0.3748 - val_accuracy: 0.9302\n",
            "Epoch 10/50\n",
            "460/460 [==============================] - 1s 2ms/step - loss: 0.3524 - accuracy: 0.9369 - val_loss: 0.4032 - val_accuracy: 0.9154\n",
            "Epoch 11/50\n",
            "460/460 [==============================] - 1s 2ms/step - loss: 0.3490 - accuracy: 0.9373 - val_loss: 0.3946 - val_accuracy: 0.9199\n",
            "Epoch 12/50\n",
            "460/460 [==============================] - 1s 2ms/step - loss: 0.3488 - accuracy: 0.9368 - val_loss: 0.3729 - val_accuracy: 0.9297\n",
            "Epoch 13/50\n",
            "460/460 [==============================] - 1s 2ms/step - loss: 0.3429 - accuracy: 0.9375 - val_loss: 0.3863 - val_accuracy: 0.9231\n",
            "Epoch 14/50\n",
            "460/460 [==============================] - 1s 2ms/step - loss: 0.3420 - accuracy: 0.9398 - val_loss: 0.3756 - val_accuracy: 0.9268\n",
            "Epoch 15/50\n",
            "460/460 [==============================] - 1s 2ms/step - loss: 0.3409 - accuracy: 0.9394 - val_loss: 0.3763 - val_accuracy: 0.9301\n",
            "Epoch 16/50\n",
            "460/460 [==============================] - 1s 2ms/step - loss: 0.3419 - accuracy: 0.9384 - val_loss: 0.3671 - val_accuracy: 0.9307\n",
            "Epoch 17/50\n",
            "460/460 [==============================] - 1s 2ms/step - loss: 0.3397 - accuracy: 0.9385 - val_loss: 0.3685 - val_accuracy: 0.9288\n",
            "Epoch 18/50\n",
            "460/460 [==============================] - 1s 2ms/step - loss: 0.3363 - accuracy: 0.9383 - val_loss: 0.3729 - val_accuracy: 0.9284\n",
            "Epoch 19/50\n",
            "460/460 [==============================] - 1s 2ms/step - loss: 0.3370 - accuracy: 0.9383 - val_loss: 0.3609 - val_accuracy: 0.9324\n",
            "Epoch 20/50\n",
            "460/460 [==============================] - 1s 2ms/step - loss: 0.3347 - accuracy: 0.9399 - val_loss: 0.3653 - val_accuracy: 0.9276\n",
            "Epoch 21/50\n",
            "460/460 [==============================] - 1s 2ms/step - loss: 0.3354 - accuracy: 0.9386 - val_loss: 0.3557 - val_accuracy: 0.9329\n",
            "Epoch 22/50\n",
            "460/460 [==============================] - 1s 2ms/step - loss: 0.3312 - accuracy: 0.9409 - val_loss: 0.3675 - val_accuracy: 0.9275\n",
            "Epoch 23/50\n",
            "460/460 [==============================] - 1s 2ms/step - loss: 0.3309 - accuracy: 0.9408 - val_loss: 0.3703 - val_accuracy: 0.9235\n",
            "Epoch 24/50\n",
            "460/460 [==============================] - 1s 2ms/step - loss: 0.3295 - accuracy: 0.9399 - val_loss: 0.3779 - val_accuracy: 0.9282\n",
            "Epoch 25/50\n",
            "460/460 [==============================] - 1s 2ms/step - loss: 0.3292 - accuracy: 0.9410 - val_loss: 0.3617 - val_accuracy: 0.9325\n",
            "Epoch 26/50\n",
            "460/460 [==============================] - 1s 2ms/step - loss: 0.3285 - accuracy: 0.9397 - val_loss: 0.3569 - val_accuracy: 0.9312\n",
            "Epoch 27/50\n",
            "460/460 [==============================] - 1s 2ms/step - loss: 0.3277 - accuracy: 0.9396 - val_loss: 0.3600 - val_accuracy: 0.9309\n",
            "Epoch 28/50\n",
            "460/460 [==============================] - 1s 2ms/step - loss: 0.3254 - accuracy: 0.9396 - val_loss: 0.3471 - val_accuracy: 0.9341\n",
            "Epoch 29/50\n",
            "460/460 [==============================] - 1s 2ms/step - loss: 0.3258 - accuracy: 0.9403 - val_loss: 0.3476 - val_accuracy: 0.9328\n",
            "Epoch 30/50\n",
            "460/460 [==============================] - 1s 2ms/step - loss: 0.3243 - accuracy: 0.9403 - val_loss: 0.3508 - val_accuracy: 0.9325\n",
            "Epoch 31/50\n",
            "460/460 [==============================] - 1s 2ms/step - loss: 0.3234 - accuracy: 0.9402 - val_loss: 0.3473 - val_accuracy: 0.9361\n",
            "Epoch 32/50\n",
            "460/460 [==============================] - 1s 2ms/step - loss: 0.3234 - accuracy: 0.9405 - val_loss: 0.3426 - val_accuracy: 0.9373\n",
            "Epoch 33/50\n",
            "460/460 [==============================] - 1s 2ms/step - loss: 0.3200 - accuracy: 0.9425 - val_loss: 0.3396 - val_accuracy: 0.9366\n",
            "Epoch 34/50\n",
            "460/460 [==============================] - 1s 2ms/step - loss: 0.3207 - accuracy: 0.9412 - val_loss: 0.3486 - val_accuracy: 0.9318\n",
            "Epoch 35/50\n",
            "460/460 [==============================] - 1s 2ms/step - loss: 0.3206 - accuracy: 0.9412 - val_loss: 0.3478 - val_accuracy: 0.9333\n",
            "Epoch 36/50\n",
            "460/460 [==============================] - 1s 2ms/step - loss: 0.3194 - accuracy: 0.9418 - val_loss: 0.3366 - val_accuracy: 0.9367\n",
            "Epoch 37/50\n",
            "460/460 [==============================] - 1s 2ms/step - loss: 0.3172 - accuracy: 0.9423 - val_loss: 0.3467 - val_accuracy: 0.9344\n",
            "Epoch 38/50\n",
            "460/460 [==============================] - 1s 2ms/step - loss: 0.3188 - accuracy: 0.9407 - val_loss: 0.3497 - val_accuracy: 0.9348\n",
            "Epoch 39/50\n",
            "460/460 [==============================] - 1s 2ms/step - loss: 0.3164 - accuracy: 0.9417 - val_loss: 0.3326 - val_accuracy: 0.9371\n",
            "Epoch 40/50\n",
            "460/460 [==============================] - 1s 2ms/step - loss: 0.3167 - accuracy: 0.9428 - val_loss: 0.3561 - val_accuracy: 0.9301\n",
            "Epoch 41/50\n",
            "460/460 [==============================] - 1s 2ms/step - loss: 0.3157 - accuracy: 0.9420 - val_loss: 0.3431 - val_accuracy: 0.9340\n",
            "Epoch 42/50\n",
            "460/460 [==============================] - 1s 2ms/step - loss: 0.3118 - accuracy: 0.9429 - val_loss: 0.3497 - val_accuracy: 0.9325\n",
            "Epoch 43/50\n",
            "460/460 [==============================] - 1s 2ms/step - loss: 0.3115 - accuracy: 0.9432 - val_loss: 0.3516 - val_accuracy: 0.9332\n",
            "Epoch 44/50\n",
            "460/460 [==============================] - 1s 2ms/step - loss: 0.3125 - accuracy: 0.9431 - val_loss: 0.3342 - val_accuracy: 0.9355\n",
            "Epoch 45/50\n",
            "460/460 [==============================] - 1s 2ms/step - loss: 0.3140 - accuracy: 0.9426 - val_loss: 0.3319 - val_accuracy: 0.9376\n",
            "Epoch 46/50\n",
            "460/460 [==============================] - 1s 2ms/step - loss: 0.3096 - accuracy: 0.9431 - val_loss: 0.3424 - val_accuracy: 0.9340\n",
            "Epoch 47/50\n",
            "460/460 [==============================] - 1s 2ms/step - loss: 0.3107 - accuracy: 0.9426 - val_loss: 0.3526 - val_accuracy: 0.9329\n",
            "Epoch 48/50\n",
            "460/460 [==============================] - 1s 2ms/step - loss: 0.3081 - accuracy: 0.9437 - val_loss: 0.3399 - val_accuracy: 0.9347\n",
            "Epoch 49/50\n",
            "460/460 [==============================] - 1s 2ms/step - loss: 0.3071 - accuracy: 0.9444 - val_loss: 0.3392 - val_accuracy: 0.9369\n",
            "Epoch 50/50\n",
            "460/460 [==============================] - 1s 2ms/step - loss: 0.3102 - accuracy: 0.9428 - val_loss: 0.3389 - val_accuracy: 0.9367\n"
          ],
          "name": "stdout"
        },
        {
          "output_type": "execute_result",
          "data": {
            "text/plain": [
              "<tensorflow.python.keras.callbacks.History at 0x7fe58d5622e8>"
            ]
          },
          "metadata": {
            "tags": []
          },
          "execution_count": 162
        }
      ]
    },
    {
      "cell_type": "code",
      "metadata": {
        "id": "Pbj6-9X7SfXp",
        "colab_type": "code",
        "outputId": "6d7c9114-d780-462e-b97c-13f27eb4777f",
        "colab": {
          "base_uri": "https://localhost:8080/",
          "height": 54
        }
      },
      "source": [
        "model.evaluate(X_test,Y_test_vec)"
      ],
      "execution_count": 0,
      "outputs": [
        {
          "output_type": "stream",
          "text": [
            "383/383 [==============================] - 0s 1ms/step - loss: 0.3231 - accuracy: 0.9399\n"
          ],
          "name": "stdout"
        },
        {
          "output_type": "execute_result",
          "data": {
            "text/plain": [
              "[0.323071151971817, 0.9399183392524719]"
            ]
          },
          "metadata": {
            "tags": []
          },
          "execution_count": 163
        }
      ]
    },
    {
      "cell_type": "code",
      "metadata": {
        "id": "xq6jfeINS_7_",
        "colab_type": "code",
        "colab": {}
      },
      "source": [
        "model = keras.models.Sequential()\n",
        "model.add(keras.layers.Dense(128,input_shape=(784,),name='hidden1',activation='relu'))\n",
        "model.add(keras.layers.Dropout(0.05))\n",
        "model.add(keras.layers.Dense(128,name='hidden2',activation='relu'))\n",
        "model.add(keras.layers.Dropout(0.05))\n",
        "model.add(keras.layers.Dense(10,activation='softmax',name='output'))"
      ],
      "execution_count": 0,
      "outputs": []
    },
    {
      "cell_type": "code",
      "metadata": {
        "id": "lBnl4GGfV3-n",
        "colab_type": "code",
        "colab": {}
      },
      "source": [
        "model.compile(optimizer='Adam',loss = 'categorical_crossentropy',metrics=['accuracy'])"
      ],
      "execution_count": 0,
      "outputs": []
    },
    {
      "cell_type": "code",
      "metadata": {
        "id": "WBHU9dKYWTw6",
        "colab_type": "code",
        "outputId": "afec704c-8081-4144-a7e0-52f0d8e34904",
        "colab": {
          "base_uri": "https://localhost:8080/",
          "height": 770
        }
      },
      "source": [
        "model.fit(X_train,Y_train_vec,batch_size=64,epochs=20,validation_split=0.2)"
      ],
      "execution_count": 0,
      "outputs": [
        {
          "output_type": "stream",
          "text": [
            "Epoch 1/20\n",
            "460/460 [==============================] - 2s 4ms/step - loss: 0.3848 - accuracy: 0.8883 - val_loss: 0.2075 - val_accuracy: 0.9384\n",
            "Epoch 2/20\n",
            "460/460 [==============================] - 2s 3ms/step - loss: 0.1635 - accuracy: 0.9510 - val_loss: 0.1647 - val_accuracy: 0.9507\n",
            "Epoch 3/20\n",
            "460/460 [==============================] - 2s 3ms/step - loss: 0.1128 - accuracy: 0.9654 - val_loss: 0.1367 - val_accuracy: 0.9585\n",
            "Epoch 4/20\n",
            "460/460 [==============================] - 2s 3ms/step - loss: 0.0877 - accuracy: 0.9736 - val_loss: 0.1243 - val_accuracy: 0.9623\n",
            "Epoch 5/20\n",
            "460/460 [==============================] - 2s 3ms/step - loss: 0.0710 - accuracy: 0.9772 - val_loss: 0.1290 - val_accuracy: 0.9627\n",
            "Epoch 6/20\n",
            "460/460 [==============================] - 2s 3ms/step - loss: 0.0576 - accuracy: 0.9811 - val_loss: 0.1092 - val_accuracy: 0.9682\n",
            "Epoch 7/20\n",
            "460/460 [==============================] - 2s 3ms/step - loss: 0.0445 - accuracy: 0.9860 - val_loss: 0.1102 - val_accuracy: 0.9702\n",
            "Epoch 8/20\n",
            "460/460 [==============================] - 2s 3ms/step - loss: 0.0370 - accuracy: 0.9880 - val_loss: 0.1109 - val_accuracy: 0.9703\n",
            "Epoch 9/20\n",
            "460/460 [==============================] - 2s 3ms/step - loss: 0.0335 - accuracy: 0.9888 - val_loss: 0.1161 - val_accuracy: 0.9678\n",
            "Epoch 10/20\n",
            "460/460 [==============================] - 2s 3ms/step - loss: 0.0283 - accuracy: 0.9912 - val_loss: 0.1161 - val_accuracy: 0.9694\n",
            "Epoch 11/20\n",
            "460/460 [==============================] - 2s 3ms/step - loss: 0.0234 - accuracy: 0.9926 - val_loss: 0.1237 - val_accuracy: 0.9675\n",
            "Epoch 12/20\n",
            "460/460 [==============================] - 2s 3ms/step - loss: 0.0255 - accuracy: 0.9918 - val_loss: 0.1222 - val_accuracy: 0.9687\n",
            "Epoch 13/20\n",
            "460/460 [==============================] - 2s 3ms/step - loss: 0.0198 - accuracy: 0.9932 - val_loss: 0.1192 - val_accuracy: 0.9709\n",
            "Epoch 14/20\n",
            "460/460 [==============================] - 2s 3ms/step - loss: 0.0189 - accuracy: 0.9936 - val_loss: 0.1284 - val_accuracy: 0.9691\n",
            "Epoch 15/20\n",
            "460/460 [==============================] - 2s 3ms/step - loss: 0.0157 - accuracy: 0.9946 - val_loss: 0.1341 - val_accuracy: 0.9710\n",
            "Epoch 16/20\n",
            "460/460 [==============================] - 2s 3ms/step - loss: 0.0176 - accuracy: 0.9942 - val_loss: 0.1296 - val_accuracy: 0.9690\n",
            "Epoch 17/20\n",
            "460/460 [==============================] - 2s 3ms/step - loss: 0.0179 - accuracy: 0.9943 - val_loss: 0.1303 - val_accuracy: 0.9716\n",
            "Epoch 18/20\n",
            "460/460 [==============================] - 2s 3ms/step - loss: 0.0155 - accuracy: 0.9947 - val_loss: 0.1493 - val_accuracy: 0.9697\n",
            "Epoch 19/20\n",
            "460/460 [==============================] - 2s 3ms/step - loss: 0.0141 - accuracy: 0.9949 - val_loss: 0.1374 - val_accuracy: 0.9706\n",
            "Epoch 20/20\n",
            "460/460 [==============================] - 2s 3ms/step - loss: 0.0141 - accuracy: 0.9946 - val_loss: 0.1268 - val_accuracy: 0.9710\n"
          ],
          "name": "stdout"
        },
        {
          "output_type": "execute_result",
          "data": {
            "text/plain": [
              "<tensorflow.python.keras.callbacks.History at 0x7fe595876198>"
            ]
          },
          "metadata": {
            "tags": []
          },
          "execution_count": 130
        }
      ]
    },
    {
      "cell_type": "code",
      "metadata": {
        "id": "8vUB5tglWggb",
        "colab_type": "code",
        "outputId": "9e60ed45-4a6f-4095-80ce-b548b4b34927",
        "colab": {
          "base_uri": "https://localhost:8080/",
          "height": 54
        }
      },
      "source": [
        "model.evaluate(X_test,Y_test_vec)"
      ],
      "execution_count": 0,
      "outputs": [
        {
          "output_type": "stream",
          "text": [
            "383/383 [==============================] - 1s 1ms/step - loss: 0.1206 - accuracy: 0.9750\n"
          ],
          "name": "stdout"
        },
        {
          "output_type": "execute_result",
          "data": {
            "text/plain": [
              "[0.12061865627765656, 0.9750204086303711]"
            ]
          },
          "metadata": {
            "tags": []
          },
          "execution_count": 131
        }
      ]
    },
    {
      "cell_type": "code",
      "metadata": {
        "id": "0eVI7m9JXVzJ",
        "colab_type": "code",
        "colab": {}
      },
      "source": [
        "model = keras.models.Sequential()\n",
        "model.add(keras.layers.Dense(128,input_shape=(784,),name='hidden1',activation='relu',kernel_regularizer=l2(0.001)))\n",
        "model.add(keras.layers.Dropout(0.05))\n",
        "model.add(keras.layers.Dense(128,name='hidden2',activation='relu',kernel_regularizer=l2(0.001)))\n",
        "model.add(keras.layers.Dropout(0.05))\n",
        "model.add(keras.layers.Dense(10,activation='softmax',name='output'))"
      ],
      "execution_count": 0,
      "outputs": []
    },
    {
      "cell_type": "code",
      "metadata": {
        "id": "Aj71YbxBgBJX",
        "colab_type": "code",
        "colab": {}
      },
      "source": [
        "model.compile(optimizer='Adam',loss = 'categorical_crossentropy',metrics=['accuracy'])"
      ],
      "execution_count": 0,
      "outputs": []
    },
    {
      "cell_type": "code",
      "metadata": {
        "id": "uETvgjysgVuD",
        "colab_type": "code",
        "outputId": "ecbb1210-9ee9-4260-ad36-13d136e3befe",
        "colab": {
          "base_uri": "https://localhost:8080/",
          "height": 770
        }
      },
      "source": [
        "model.fit(X_train,Y_train_vec,epochs=20,batch_size=64,validation_split=0.2)"
      ],
      "execution_count": 0,
      "outputs": [
        {
          "output_type": "stream",
          "text": [
            "Epoch 1/20\n",
            "460/460 [==============================] - 2s 4ms/step - loss: 1.2737 - accuracy: 0.8626 - val_loss: 0.6547 - val_accuracy: 0.9105\n",
            "Epoch 2/20\n",
            "460/460 [==============================] - 2s 4ms/step - loss: 0.5930 - accuracy: 0.9109 - val_loss: 0.5776 - val_accuracy: 0.9042\n",
            "Epoch 3/20\n",
            "460/460 [==============================] - 2s 4ms/step - loss: 0.5260 - accuracy: 0.9181 - val_loss: 0.4971 - val_accuracy: 0.9263\n",
            "Epoch 4/20\n",
            "460/460 [==============================] - 2s 4ms/step - loss: 0.4887 - accuracy: 0.9258 - val_loss: 0.4607 - val_accuracy: 0.9306\n",
            "Epoch 5/20\n",
            "460/460 [==============================] - 2s 4ms/step - loss: 0.4589 - accuracy: 0.9315 - val_loss: 0.4692 - val_accuracy: 0.9264\n",
            "Epoch 6/20\n",
            "460/460 [==============================] - 2s 4ms/step - loss: 0.4426 - accuracy: 0.9331 - val_loss: 0.4235 - val_accuracy: 0.9405\n",
            "Epoch 7/20\n",
            "460/460 [==============================] - 2s 4ms/step - loss: 0.4241 - accuracy: 0.9364 - val_loss: 0.4350 - val_accuracy: 0.9284\n",
            "Epoch 8/20\n",
            "460/460 [==============================] - 2s 4ms/step - loss: 0.4104 - accuracy: 0.9380 - val_loss: 0.3861 - val_accuracy: 0.9457\n",
            "Epoch 9/20\n",
            "460/460 [==============================] - 2s 4ms/step - loss: 0.3986 - accuracy: 0.9408 - val_loss: 0.3864 - val_accuracy: 0.9434\n",
            "Epoch 10/20\n",
            "460/460 [==============================] - 2s 4ms/step - loss: 0.3891 - accuracy: 0.9421 - val_loss: 0.3695 - val_accuracy: 0.9478\n",
            "Epoch 11/20\n",
            "460/460 [==============================] - 2s 4ms/step - loss: 0.3815 - accuracy: 0.9419 - val_loss: 0.3672 - val_accuracy: 0.9479\n",
            "Epoch 12/20\n",
            "460/460 [==============================] - 2s 4ms/step - loss: 0.3708 - accuracy: 0.9451 - val_loss: 0.3641 - val_accuracy: 0.9439\n",
            "Epoch 13/20\n",
            "460/460 [==============================] - 2s 4ms/step - loss: 0.3581 - accuracy: 0.9476 - val_loss: 0.3445 - val_accuracy: 0.9513\n",
            "Epoch 14/20\n",
            "460/460 [==============================] - 2s 4ms/step - loss: 0.3557 - accuracy: 0.9463 - val_loss: 0.3436 - val_accuracy: 0.9518\n",
            "Epoch 15/20\n",
            "460/460 [==============================] - 2s 4ms/step - loss: 0.3442 - accuracy: 0.9496 - val_loss: 0.3314 - val_accuracy: 0.9529\n",
            "Epoch 16/20\n",
            "460/460 [==============================] - 2s 4ms/step - loss: 0.3415 - accuracy: 0.9485 - val_loss: 0.3260 - val_accuracy: 0.9524\n",
            "Epoch 17/20\n",
            "460/460 [==============================] - 2s 4ms/step - loss: 0.3348 - accuracy: 0.9511 - val_loss: 0.3510 - val_accuracy: 0.9403\n",
            "Epoch 18/20\n",
            "460/460 [==============================] - 2s 4ms/step - loss: 0.3340 - accuracy: 0.9511 - val_loss: 0.3157 - val_accuracy: 0.9551\n",
            "Epoch 19/20\n",
            "460/460 [==============================] - 2s 4ms/step - loss: 0.3300 - accuracy: 0.9502 - val_loss: 0.3405 - val_accuracy: 0.9463\n",
            "Epoch 20/20\n",
            "460/460 [==============================] - 2s 4ms/step - loss: 0.3224 - accuracy: 0.9517 - val_loss: 0.3249 - val_accuracy: 0.9525\n"
          ],
          "name": "stdout"
        },
        {
          "output_type": "execute_result",
          "data": {
            "text/plain": [
              "<tensorflow.python.keras.callbacks.History at 0x7fe59566ecf8>"
            ]
          },
          "metadata": {
            "tags": []
          },
          "execution_count": 179
        }
      ]
    },
    {
      "cell_type": "code",
      "metadata": {
        "id": "ByDnpTT2gjR1",
        "colab_type": "code",
        "outputId": "781bdfd7-97e5-4db2-c17e-d277c2bac8be",
        "colab": {
          "base_uri": "https://localhost:8080/",
          "height": 54
        }
      },
      "source": [
        "model.evaluate(X_test,Y_test_vec)"
      ],
      "execution_count": 0,
      "outputs": [
        {
          "output_type": "stream",
          "text": [
            "383/383 [==============================] - 1s 1ms/step - loss: 0.3148 - accuracy: 0.9545\n"
          ],
          "name": "stdout"
        },
        {
          "output_type": "execute_result",
          "data": {
            "text/plain": [
              "[0.31476548314094543, 0.9545305967330933]"
            ]
          },
          "metadata": {
            "tags": []
          },
          "execution_count": 180
        }
      ]
    },
    {
      "cell_type": "code",
      "metadata": {
        "id": "SDXbhbIuiIEE",
        "colab_type": "code",
        "colab": {}
      },
      "source": [
        "model = keras.models.Sequential()\n",
        "model.add(keras.layers.Dense(128,input_shape=(784,),name='hidden1',activation='relu'))\n",
        "model.add(keras.layers.Dropout(0.05))\n",
        "model.add(keras.layers.Dense(128,name='hidden2',activation='relu'))\n",
        "model.add(keras.layers.Dropout(0.05))\n",
        "model.add(keras.layers.Dense(10,activation='softmax',name='output'))"
      ],
      "execution_count": 0,
      "outputs": []
    },
    {
      "cell_type": "code",
      "metadata": {
        "id": "WjWOfBghJOjZ",
        "colab_type": "code",
        "colab": {}
      },
      "source": [
        "opt = keras.optimizers.Adam(learning_rate=0.01)"
      ],
      "execution_count": 0,
      "outputs": []
    },
    {
      "cell_type": "code",
      "metadata": {
        "id": "mJdLgJF1F7nR",
        "colab_type": "code",
        "colab": {}
      },
      "source": [
        "model.compile(optimizer=opt,loss = 'categorical_crossentropy',metrics=['accuracy'])"
      ],
      "execution_count": 0,
      "outputs": []
    },
    {
      "cell_type": "code",
      "metadata": {
        "id": "5uOm-YqXF8vU",
        "colab_type": "code",
        "outputId": "8a35e0fe-ccda-401e-c340-184d41cab2b0",
        "colab": {
          "base_uri": "https://localhost:8080/",
          "height": 734
        }
      },
      "source": [
        "model.fit(X_train,Y_train_vec,batch_size=64,epochs=20,validation_split=0.2)"
      ],
      "execution_count": 0,
      "outputs": [
        {
          "output_type": "stream",
          "text": [
            "Epoch 1/20\n",
            "460/460 [==============================] - 2s 3ms/step - loss: 0.0152 - accuracy: 0.9967 - val_loss: 0.7341 - val_accuracy: 0.9650\n",
            "Epoch 2/20\n",
            "460/460 [==============================] - 2s 3ms/step - loss: 0.0137 - accuracy: 0.9967 - val_loss: 0.7464 - val_accuracy: 0.9671\n",
            "Epoch 3/20\n",
            "460/460 [==============================] - 2s 3ms/step - loss: 0.0142 - accuracy: 0.9973 - val_loss: 0.7015 - val_accuracy: 0.9669\n",
            "Epoch 4/20\n",
            "460/460 [==============================] - 2s 3ms/step - loss: 0.0130 - accuracy: 0.9967 - val_loss: 0.7051 - val_accuracy: 0.9673\n",
            "Epoch 5/20\n",
            "460/460 [==============================] - 2s 3ms/step - loss: 0.0145 - accuracy: 0.9970 - val_loss: 0.6901 - val_accuracy: 0.9679\n",
            "Epoch 6/20\n",
            "460/460 [==============================] - 2s 3ms/step - loss: 0.0105 - accuracy: 0.9972 - val_loss: 0.7370 - val_accuracy: 0.9675\n",
            "Epoch 7/20\n",
            "460/460 [==============================] - 2s 3ms/step - loss: 0.0129 - accuracy: 0.9970 - val_loss: 0.7127 - val_accuracy: 0.9671\n",
            "Epoch 8/20\n",
            "460/460 [==============================] - 2s 3ms/step - loss: 0.0131 - accuracy: 0.9972 - val_loss: 0.7123 - val_accuracy: 0.9673\n",
            "Epoch 9/20\n",
            "460/460 [==============================] - 2s 3ms/step - loss: 0.0155 - accuracy: 0.9970 - val_loss: 0.6968 - val_accuracy: 0.9667\n",
            "Epoch 10/20\n",
            "460/460 [==============================] - 2s 3ms/step - loss: 0.0119 - accuracy: 0.9971 - val_loss: 0.6986 - val_accuracy: 0.9673\n",
            "Epoch 11/20\n",
            "460/460 [==============================] - 2s 3ms/step - loss: 0.0129 - accuracy: 0.9970 - val_loss: 0.6873 - val_accuracy: 0.9678\n",
            "Epoch 12/20\n",
            "460/460 [==============================] - 2s 3ms/step - loss: 0.0144 - accuracy: 0.9971 - val_loss: 0.6726 - val_accuracy: 0.9678\n",
            "Epoch 13/20\n",
            "460/460 [==============================] - 2s 3ms/step - loss: 0.0114 - accuracy: 0.9972 - val_loss: 0.6775 - val_accuracy: 0.9682\n",
            "Epoch 14/20\n",
            "460/460 [==============================] - 2s 3ms/step - loss: 0.0121 - accuracy: 0.9974 - val_loss: 0.7440 - val_accuracy: 0.9671\n",
            "Epoch 15/20\n",
            "460/460 [==============================] - 2s 3ms/step - loss: 0.0113 - accuracy: 0.9970 - val_loss: 0.6730 - val_accuracy: 0.9678\n",
            "Epoch 16/20\n",
            "460/460 [==============================] - 2s 3ms/step - loss: 0.0146 - accuracy: 0.9968 - val_loss: 0.6771 - val_accuracy: 0.9668\n",
            "Epoch 17/20\n",
            "460/460 [==============================] - 2s 3ms/step - loss: 0.0138 - accuracy: 0.9971 - val_loss: 0.6981 - val_accuracy: 0.9665\n",
            "Epoch 18/20\n",
            "460/460 [==============================] - 2s 3ms/step - loss: 0.0113 - accuracy: 0.9973 - val_loss: 0.7312 - val_accuracy: 0.9667\n",
            "Epoch 19/20\n",
            "460/460 [==============================] - 2s 3ms/step - loss: 0.0111 - accuracy: 0.9975 - val_loss: 0.6946 - val_accuracy: 0.9683\n",
            "Epoch 20/20\n",
            "460/460 [==============================] - 2s 3ms/step - loss: 0.0096 - accuracy: 0.9975 - val_loss: 0.7201 - val_accuracy: 0.9669\n"
          ],
          "name": "stdout"
        },
        {
          "output_type": "execute_result",
          "data": {
            "text/plain": [
              "<tensorflow.python.keras.callbacks.History at 0x7f316e9679e8>"
            ]
          },
          "metadata": {
            "tags": []
          },
          "execution_count": 72
        }
      ]
    },
    {
      "cell_type": "code",
      "metadata": {
        "id": "FVXbsdZAGBfS",
        "colab_type": "code",
        "outputId": "98ef20e4-2d96-4e50-b33e-677c554272dd",
        "colab": {
          "base_uri": "https://localhost:8080/",
          "height": 51
        }
      },
      "source": [
        "model.evaluate(X_test,Y_test_vec)"
      ],
      "execution_count": 0,
      "outputs": [
        {
          "output_type": "stream",
          "text": [
            "383/383 [==============================] - 1s 1ms/step - loss: 0.8475 - accuracy: 0.9692\n"
          ],
          "name": "stdout"
        },
        {
          "output_type": "execute_result",
          "data": {
            "text/plain": [
              "[0.8474753499031067, 0.9692245125770569]"
            ]
          },
          "metadata": {
            "tags": []
          },
          "execution_count": 73
        }
      ]
    },
    {
      "cell_type": "code",
      "metadata": {
        "id": "iFjZE82BGOdm",
        "colab_type": "code",
        "colab": {}
      },
      "source": [
        "X_train_mat = X_train.reshape(-1,28,28,1)\n",
        "X_test_mat = X_test.reshape(-1,28,28,1)"
      ],
      "execution_count": 0,
      "outputs": []
    },
    {
      "cell_type": "code",
      "metadata": {
        "id": "DRMnMZD7Mxkl",
        "colab_type": "code",
        "colab": {}
      },
      "source": [
        "model  = keras.models.Sequential()\n",
        "model.add(keras.layers.Conv2D(20,(5,5),activation='relu',input_shape=(28,28,1)))\n",
        "model.add(keras.layers.MaxPool2D(pool_size=(2,2),strides=(2,2)))\n",
        "model.add(keras.layers.Conv2D(50,(5,5),activation='relu'))\n",
        "model.add(keras.layers.MaxPool2D(pool_size=(2,2),strides=(2,2)))\n",
        "model.add(keras.layers.Flatten())\n",
        "model.add(keras.layers.Dense(500,activation='relu'))\n",
        "model.add(keras.layers.Dense(10,activation='softmax'))"
      ],
      "execution_count": 0,
      "outputs": []
    },
    {
      "cell_type": "code",
      "metadata": {
        "id": "aBKoBY_n5tHh",
        "colab_type": "code",
        "colab": {}
      },
      "source": [
        "model.compile(optimizer='Adam',loss='categorical_crossentropy',metrics=['accuracy'])"
      ],
      "execution_count": 0,
      "outputs": []
    },
    {
      "cell_type": "code",
      "metadata": {
        "id": "CxcNVJAy5wCq",
        "colab_type": "code",
        "outputId": "8cbccec9-53e7-413c-dc6d-6e1fdf0f6ac9",
        "colab": {
          "base_uri": "https://localhost:8080/",
          "height": 374
        }
      },
      "source": [
        "model.fit(X_train_mat,Y_train_vec,batch_size=128,epochs=10,validation_split=0.1)"
      ],
      "execution_count": 0,
      "outputs": [
        {
          "output_type": "stream",
          "text": [
            "Epoch 1/10\n",
            "259/259 [==============================] - 24s 93ms/step - loss: 0.0028 - accuracy: 0.9991 - val_loss: 0.0601 - val_accuracy: 0.9886\n",
            "Epoch 2/10\n",
            "259/259 [==============================] - 24s 93ms/step - loss: 6.1176e-04 - accuracy: 0.9998 - val_loss: 0.0535 - val_accuracy: 0.9905\n",
            "Epoch 3/10\n",
            "259/259 [==============================] - 27s 105ms/step - loss: 2.3966e-04 - accuracy: 0.9999 - val_loss: 0.0552 - val_accuracy: 0.9910\n",
            "Epoch 4/10\n",
            "259/259 [==============================] - 24s 93ms/step - loss: 1.7816e-04 - accuracy: 1.0000 - val_loss: 0.0561 - val_accuracy: 0.9910\n",
            "Epoch 5/10\n",
            "259/259 [==============================] - 24s 92ms/step - loss: 9.2940e-05 - accuracy: 1.0000 - val_loss: 0.0582 - val_accuracy: 0.9907\n",
            "Epoch 6/10\n",
            "259/259 [==============================] - 24s 93ms/step - loss: 7.1827e-05 - accuracy: 1.0000 - val_loss: 0.0584 - val_accuracy: 0.9913\n",
            "Epoch 7/10\n",
            "259/259 [==============================] - 24s 92ms/step - loss: 1.4221e-04 - accuracy: 0.9999 - val_loss: 0.0600 - val_accuracy: 0.9910\n",
            "Epoch 8/10\n",
            "259/259 [==============================] - 24s 93ms/step - loss: 2.0572e-04 - accuracy: 1.0000 - val_loss: 0.0608 - val_accuracy: 0.9899\n",
            "Epoch 9/10\n",
            "259/259 [==============================] - 24s 93ms/step - loss: 8.0045e-05 - accuracy: 1.0000 - val_loss: 0.0606 - val_accuracy: 0.9905\n",
            "Epoch 10/10\n",
            "259/259 [==============================] - 24s 93ms/step - loss: 4.1768e-05 - accuracy: 1.0000 - val_loss: 0.0626 - val_accuracy: 0.9905\n"
          ],
          "name": "stdout"
        },
        {
          "output_type": "execute_result",
          "data": {
            "text/plain": [
              "<tensorflow.python.keras.callbacks.History at 0x7f7af9235e48>"
            ]
          },
          "metadata": {
            "tags": []
          },
          "execution_count": 61
        }
      ]
    },
    {
      "cell_type": "code",
      "metadata": {
        "id": "gGNbJYTN6gPw",
        "colab_type": "code",
        "outputId": "19da7fda-2a3c-4971-d871-5b414687f17c",
        "colab": {
          "base_uri": "https://localhost:8080/",
          "height": 51
        }
      },
      "source": [
        "model.evaluate(X_test_mat,Y_test_vec)"
      ],
      "execution_count": 0,
      "outputs": [
        {
          "output_type": "stream",
          "text": [
            "383/383 [==============================] - 3s 9ms/step - loss: 0.0475 - accuracy: 0.9911\n"
          ],
          "name": "stdout"
        },
        {
          "output_type": "execute_result",
          "data": {
            "text/plain": [
              "[0.047530096024274826, 0.9911020398139954]"
            ]
          },
          "metadata": {
            "tags": []
          },
          "execution_count": 62
        }
      ]
    },
    {
      "cell_type": "code",
      "metadata": {
        "id": "m_gE0Trb79xE",
        "colab_type": "code",
        "colab": {}
      },
      "source": [
        "model  = keras.models.Sequential()\n",
        "model.add(keras.layers.Conv2D(20,(5,5),activation='relu',input_shape=(28,28,1)))\n",
        "model.add(keras.layers.MaxPool2D(pool_size=(2,2),strides=(2,2)))\n",
        "model.add(keras.layers.Conv2D(50,(5,5),activation='relu'))\n",
        "model.add(keras.layers.MaxPool2D(pool_size=(2,2),strides=(2,2)))\n",
        "model.add(keras.layers.Flatten())\n",
        "model.add(keras.layers.Dense(500,activation='relu'))\n",
        "model.add(keras.layers.Dense(10,activation='softmax'))"
      ],
      "execution_count": 0,
      "outputs": []
    },
    {
      "cell_type": "code",
      "metadata": {
        "id": "7kmaQvveBXuP",
        "colab_type": "code",
        "colab": {}
      },
      "source": [
        "model.compile(optimizer='RMSProp',loss='categorical_crossentropy',metrics=['accuracy'])"
      ],
      "execution_count": 0,
      "outputs": []
    },
    {
      "cell_type": "code",
      "metadata": {
        "id": "xIQZWpzlBcZo",
        "colab_type": "code",
        "outputId": "9e2aee07-b9fc-4e6d-a4e4-ba82b65da7b5",
        "colab": {
          "base_uri": "https://localhost:8080/",
          "height": 374
        }
      },
      "source": [
        "model.fit(X_train_mat,Y_train_vec,batch_size=128,epochs=10,validation_split=0.1)"
      ],
      "execution_count": 0,
      "outputs": [
        {
          "output_type": "stream",
          "text": [
            "Epoch 1/10\n",
            "259/259 [==============================] - 24s 94ms/step - loss: 0.2917 - accuracy: 0.9423 - val_loss: 0.0911 - val_accuracy: 0.9725\n",
            "Epoch 2/10\n",
            "259/259 [==============================] - 24s 94ms/step - loss: 0.0653 - accuracy: 0.9788 - val_loss: 0.0528 - val_accuracy: 0.9826\n",
            "Epoch 3/10\n",
            "259/259 [==============================] - 27s 105ms/step - loss: 0.0410 - accuracy: 0.9874 - val_loss: 0.0617 - val_accuracy: 0.9829\n",
            "Epoch 4/10\n",
            "259/259 [==============================] - 24s 94ms/step - loss: 0.0299 - accuracy: 0.9912 - val_loss: 0.0794 - val_accuracy: 0.9766\n",
            "Epoch 5/10\n",
            "259/259 [==============================] - 24s 94ms/step - loss: 0.0208 - accuracy: 0.9935 - val_loss: 0.0750 - val_accuracy: 0.9820\n",
            "Epoch 6/10\n",
            "259/259 [==============================] - 24s 94ms/step - loss: 0.0153 - accuracy: 0.9953 - val_loss: 0.0466 - val_accuracy: 0.9875\n",
            "Epoch 7/10\n",
            "259/259 [==============================] - 24s 93ms/step - loss: 0.0114 - accuracy: 0.9965 - val_loss: 0.0421 - val_accuracy: 0.9897\n",
            "Epoch 8/10\n",
            "259/259 [==============================] - 24s 93ms/step - loss: 0.0102 - accuracy: 0.9971 - val_loss: 0.0628 - val_accuracy: 0.9869\n",
            "Epoch 9/10\n",
            "259/259 [==============================] - 24s 93ms/step - loss: 0.0077 - accuracy: 0.9978 - val_loss: 0.0463 - val_accuracy: 0.9891\n",
            "Epoch 10/10\n",
            "259/259 [==============================] - 24s 93ms/step - loss: 0.0061 - accuracy: 0.9983 - val_loss: 0.0483 - val_accuracy: 0.9883\n"
          ],
          "name": "stdout"
        },
        {
          "output_type": "execute_result",
          "data": {
            "text/plain": [
              "<tensorflow.python.keras.callbacks.History at 0x7f7b00ea2630>"
            ]
          },
          "metadata": {
            "tags": []
          },
          "execution_count": 55
        }
      ]
    },
    {
      "cell_type": "code",
      "metadata": {
        "id": "nl1Ei_XKBgIo",
        "colab_type": "code",
        "outputId": "03f52ff4-8adf-43d7-eca2-b70912294abe",
        "colab": {
          "base_uri": "https://localhost:8080/",
          "height": 51
        }
      },
      "source": [
        "model.evaluate(X_test_mat,Y_test_vec)"
      ],
      "execution_count": 0,
      "outputs": [
        {
          "output_type": "stream",
          "text": [
            "383/383 [==============================] - 3s 9ms/step - loss: 0.0494 - accuracy: 0.9896\n"
          ],
          "name": "stdout"
        },
        {
          "output_type": "execute_result",
          "data": {
            "text/plain": [
              "[0.04942111298441887, 0.9896326661109924]"
            ]
          },
          "metadata": {
            "tags": []
          },
          "execution_count": 56
        }
      ]
    },
    {
      "cell_type": "code",
      "metadata": {
        "id": "5Urb4nyPCr63",
        "colab_type": "code",
        "colab": {}
      },
      "source": [
        ""
      ],
      "execution_count": 0,
      "outputs": []
    }
  ]
}