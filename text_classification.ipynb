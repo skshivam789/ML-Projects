{
  "nbformat": 4,
  "nbformat_minor": 0,
  "metadata": {
    "kernelspec": {
      "display_name": "Python 3",
      "language": "python",
      "name": "python3"
    },
    "language_info": {
      "codemirror_mode": {
        "name": "ipython",
        "version": 3
      },
      "file_extension": ".py",
      "mimetype": "text/x-python",
      "name": "python",
      "nbconvert_exporter": "python",
      "pygments_lexer": "ipython3",
      "version": "3.7.3"
    },
    "colab": {
      "name": "text_classification.ipynb",
      "provenance": [],
      "include_colab_link": true
    }
  },
  "cells": [
    {
      "cell_type": "markdown",
      "metadata": {
        "id": "view-in-github",
        "colab_type": "text"
      },
      "source": [
        "<a href=\"https://colab.research.google.com/github/skshivam789/ML-Projects/blob/master/text_classification.ipynb\" target=\"_parent\"><img src=\"https://colab.research.google.com/assets/colab-badge.svg\" alt=\"Open In Colab\"/></a>"
      ]
    },
    {
      "cell_type": "code",
      "metadata": {
        "id": "ouhk06uO3OkF",
        "colab_type": "code",
        "colab": {}
      },
      "source": [
        "import pandas as pd\n",
        "import numpy as np\n",
        "import matplotlib.pyplot as plt\n",
        "import seaborn as sns\n",
        "from sklearn.linear_model import SGDClassifier\n",
        "from numpy import hstack\n",
        "import warnings\n",
        "warnings.filterwarnings('ignore')\n",
        "from sklearn.naive_bayes import MultinomialNB\n",
        "import os\n",
        "import glob\n",
        "from sklearn.metrics import accuracy_score,confusion_matrix\n",
        "from sklearn.naive_bayes import MultinomialNB\n",
        "\n",
        "%matplotlib inline"
      ],
      "execution_count": 0,
      "outputs": []
    },
    {
      "cell_type": "code",
      "metadata": {
        "id": "esV-Sfif3OkQ",
        "colab_type": "code",
        "colab": {},
        "outputId": "48fd2eba-17ea-4f3b-d26d-de173af72a84"
      },
      "source": [
        "path=os.getcwd()\n",
        "print(path)"
      ],
      "execution_count": 0,
      "outputs": [
        {
          "output_type": "stream",
          "text": [
            "C:\\Users\\Udeshya Dixit\n"
          ],
          "name": "stdout"
        }
      ]
    },
    {
      "cell_type": "code",
      "metadata": {
        "id": "q6QGAfFz3Okb",
        "colab_type": "code",
        "colab": {}
      },
      "source": [
        "import zipfile as zf\n",
        "positive_files = zf.ZipFile(\"positve.zip\", 'r')\n",
        "positive_files.extractall('directory to extract')\n",
        "positive_files.close()\n",
        "\n",
        "negative_files = zf.ZipFile(\"negative.zip\", 'r')\n",
        "negative_files.extractall('directory1 to extract')\n",
        "negative_files.close()\n",
        "\n"
      ],
      "execution_count": 0,
      "outputs": []
    },
    {
      "cell_type": "code",
      "metadata": {
        "id": "uUxfI78x3Okk",
        "colab_type": "code",
        "colab": {}
      },
      "source": [
        "positive=os.listdir(r'directory to extract\\positve')\n",
        "negative=os.listdir(r'directory1 to extract\\negative')"
      ],
      "execution_count": 0,
      "outputs": []
    },
    {
      "cell_type": "code",
      "metadata": {
        "id": "oupM3Nsh3Okq",
        "colab_type": "code",
        "colab": {},
        "outputId": "3009f14e-73f4-4856-b034-44f8a0e4099d"
      },
      "source": [
        "print(type(positive),len(negative))"
      ],
      "execution_count": 0,
      "outputs": [
        {
          "output_type": "stream",
          "text": [
            "<class 'list'> 8000\n"
          ],
          "name": "stdout"
        }
      ]
    },
    {
      "cell_type": "code",
      "metadata": {
        "id": "JGkqnga_3Okz",
        "colab_type": "code",
        "colab": {},
        "outputId": "7a07e36b-2742-4b3e-cd02-9bce7f487dca"
      },
      "source": [
        "data_positive=pd.DataFrame(positive)\n",
        "data_positive.columns=['file_name']\n",
        "\n",
        "ones=pd.DataFrame([1]*10000)\n",
        "ones.columns=['class']\n",
        "\n",
        "positive_class=pd.concat([data_positive,ones],axis=1)\n",
        "positive_class.head()"
      ],
      "execution_count": 0,
      "outputs": [
        {
          "output_type": "execute_result",
          "data": {
            "text/html": [
              "<div>\n",
              "<style scoped>\n",
              "    .dataframe tbody tr th:only-of-type {\n",
              "        vertical-align: middle;\n",
              "    }\n",
              "\n",
              "    .dataframe tbody tr th {\n",
              "        vertical-align: top;\n",
              "    }\n",
              "\n",
              "    .dataframe thead th {\n",
              "        text-align: right;\n",
              "    }\n",
              "</style>\n",
              "<table border=\"1\" class=\"dataframe\">\n",
              "  <thead>\n",
              "    <tr style=\"text-align: right;\">\n",
              "      <th></th>\n",
              "      <th>file_name</th>\n",
              "      <th>class</th>\n",
              "    </tr>\n",
              "  </thead>\n",
              "  <tbody>\n",
              "    <tr>\n",
              "      <th>0</th>\n",
              "      <td>0_9.txt</td>\n",
              "      <td>1</td>\n",
              "    </tr>\n",
              "    <tr>\n",
              "      <th>1</th>\n",
              "      <td>10000_8.txt</td>\n",
              "      <td>1</td>\n",
              "    </tr>\n",
              "    <tr>\n",
              "      <th>2</th>\n",
              "      <td>10002_7.txt</td>\n",
              "      <td>1</td>\n",
              "    </tr>\n",
              "    <tr>\n",
              "      <th>3</th>\n",
              "      <td>10004_8.txt</td>\n",
              "      <td>1</td>\n",
              "    </tr>\n",
              "    <tr>\n",
              "      <th>4</th>\n",
              "      <td>10005_7.txt</td>\n",
              "      <td>1</td>\n",
              "    </tr>\n",
              "  </tbody>\n",
              "</table>\n",
              "</div>"
            ],
            "text/plain": [
              "     file_name  class\n",
              "0      0_9.txt      1\n",
              "1  10000_8.txt      1\n",
              "2  10002_7.txt      1\n",
              "3  10004_8.txt      1\n",
              "4  10005_7.txt      1"
            ]
          },
          "metadata": {
            "tags": []
          },
          "execution_count": 99
        }
      ]
    },
    {
      "cell_type": "code",
      "metadata": {
        "id": "4cCrSdMk3Ok7",
        "colab_type": "code",
        "colab": {},
        "outputId": "2a72e5a8-8725-44f7-c538-f36b510943ad"
      },
      "source": [
        "positive_class.info()"
      ],
      "execution_count": 0,
      "outputs": [
        {
          "output_type": "stream",
          "text": [
            "<class 'pandas.core.frame.DataFrame'>\n",
            "RangeIndex: 10000 entries, 0 to 9999\n",
            "Data columns (total 2 columns):\n",
            "file_name    10000 non-null object\n",
            "class        10000 non-null int64\n",
            "dtypes: int64(1), object(1)\n",
            "memory usage: 156.3+ KB\n"
          ],
          "name": "stdout"
        }
      ]
    },
    {
      "cell_type": "code",
      "metadata": {
        "id": "N9Qv9jn_3OlJ",
        "colab_type": "code",
        "colab": {},
        "outputId": "7fd0039f-ad2a-4262-d790-56a267b41abc"
      },
      "source": [
        "data_negative=pd.DataFrame(negative,index=[10000+x for x in range(8000)])\n",
        "data_negative.columns=['file_name']\n",
        "\n",
        "zeroes=pd.DataFrame([0]*8000,index=[10000+x for x in range(8000)])\n",
        "zeroes.columns=['class']\n",
        "\n",
        "negative_class=pd.concat([data_negative,zeroes],axis=1)\n",
        "negative_class.head()"
      ],
      "execution_count": 0,
      "outputs": [
        {
          "output_type": "execute_result",
          "data": {
            "text/html": [
              "<div>\n",
              "<style scoped>\n",
              "    .dataframe tbody tr th:only-of-type {\n",
              "        vertical-align: middle;\n",
              "    }\n",
              "\n",
              "    .dataframe tbody tr th {\n",
              "        vertical-align: top;\n",
              "    }\n",
              "\n",
              "    .dataframe thead th {\n",
              "        text-align: right;\n",
              "    }\n",
              "</style>\n",
              "<table border=\"1\" class=\"dataframe\">\n",
              "  <thead>\n",
              "    <tr style=\"text-align: right;\">\n",
              "      <th></th>\n",
              "      <th>file_name</th>\n",
              "      <th>class</th>\n",
              "    </tr>\n",
              "  </thead>\n",
              "  <tbody>\n",
              "    <tr>\n",
              "      <th>10000</th>\n",
              "      <td>10000_4.txt</td>\n",
              "      <td>0</td>\n",
              "    </tr>\n",
              "    <tr>\n",
              "      <th>10001</th>\n",
              "      <td>10001_4.txt</td>\n",
              "      <td>0</td>\n",
              "    </tr>\n",
              "    <tr>\n",
              "      <th>10002</th>\n",
              "      <td>10003_1.txt</td>\n",
              "      <td>0</td>\n",
              "    </tr>\n",
              "    <tr>\n",
              "      <th>10003</th>\n",
              "      <td>10004_3.txt</td>\n",
              "      <td>0</td>\n",
              "    </tr>\n",
              "    <tr>\n",
              "      <th>10004</th>\n",
              "      <td>10006_4.txt</td>\n",
              "      <td>0</td>\n",
              "    </tr>\n",
              "  </tbody>\n",
              "</table>\n",
              "</div>"
            ],
            "text/plain": [
              "         file_name  class\n",
              "10000  10000_4.txt      0\n",
              "10001  10001_4.txt      0\n",
              "10002  10003_1.txt      0\n",
              "10003  10004_3.txt      0\n",
              "10004  10006_4.txt      0"
            ]
          },
          "metadata": {
            "tags": []
          },
          "execution_count": 100
        }
      ]
    },
    {
      "cell_type": "code",
      "metadata": {
        "id": "FB35R7of3OlO",
        "colab_type": "code",
        "colab": {},
        "outputId": "7b46dd1d-cfb2-44d3-8018-e8703aeb4f40"
      },
      "source": [
        "negative_class.info()"
      ],
      "execution_count": 0,
      "outputs": [
        {
          "output_type": "stream",
          "text": [
            "<class 'pandas.core.frame.DataFrame'>\n",
            "Int64Index: 8000 entries, 10000 to 17999\n",
            "Data columns (total 2 columns):\n",
            "file_name    8000 non-null object\n",
            "class        8000 non-null int64\n",
            "dtypes: int64(1), object(1)\n",
            "memory usage: 187.5+ KB\n"
          ],
          "name": "stdout"
        }
      ]
    },
    {
      "cell_type": "code",
      "metadata": {
        "id": "_AJYGa_N3OlY",
        "colab_type": "code",
        "colab": {},
        "outputId": "0dcd6abb-e4da-4306-bfcb-ad872b77995e"
      },
      "source": [
        "data=pd.concat([positive_class,negative_class])\n",
        "data.head()"
      ],
      "execution_count": 0,
      "outputs": [
        {
          "output_type": "execute_result",
          "data": {
            "text/html": [
              "<div>\n",
              "<style scoped>\n",
              "    .dataframe tbody tr th:only-of-type {\n",
              "        vertical-align: middle;\n",
              "    }\n",
              "\n",
              "    .dataframe tbody tr th {\n",
              "        vertical-align: top;\n",
              "    }\n",
              "\n",
              "    .dataframe thead th {\n",
              "        text-align: right;\n",
              "    }\n",
              "</style>\n",
              "<table border=\"1\" class=\"dataframe\">\n",
              "  <thead>\n",
              "    <tr style=\"text-align: right;\">\n",
              "      <th></th>\n",
              "      <th>file_name</th>\n",
              "      <th>class</th>\n",
              "    </tr>\n",
              "  </thead>\n",
              "  <tbody>\n",
              "    <tr>\n",
              "      <th>0</th>\n",
              "      <td>0_9.txt</td>\n",
              "      <td>1</td>\n",
              "    </tr>\n",
              "    <tr>\n",
              "      <th>1</th>\n",
              "      <td>10000_8.txt</td>\n",
              "      <td>1</td>\n",
              "    </tr>\n",
              "    <tr>\n",
              "      <th>2</th>\n",
              "      <td>10002_7.txt</td>\n",
              "      <td>1</td>\n",
              "    </tr>\n",
              "    <tr>\n",
              "      <th>3</th>\n",
              "      <td>10004_8.txt</td>\n",
              "      <td>1</td>\n",
              "    </tr>\n",
              "    <tr>\n",
              "      <th>4</th>\n",
              "      <td>10005_7.txt</td>\n",
              "      <td>1</td>\n",
              "    </tr>\n",
              "  </tbody>\n",
              "</table>\n",
              "</div>"
            ],
            "text/plain": [
              "     file_name  class\n",
              "0      0_9.txt      1\n",
              "1  10000_8.txt      1\n",
              "2  10002_7.txt      1\n",
              "3  10004_8.txt      1\n",
              "4  10005_7.txt      1"
            ]
          },
          "metadata": {
            "tags": []
          },
          "execution_count": 103
        }
      ]
    },
    {
      "cell_type": "code",
      "metadata": {
        "id": "m9O_8lKW3Olc",
        "colab_type": "code",
        "colab": {},
        "outputId": "05e78692-b12f-4237-f93a-ceacbf8ab73a"
      },
      "source": [
        "data.info()"
      ],
      "execution_count": 0,
      "outputs": [
        {
          "output_type": "stream",
          "text": [
            "<class 'pandas.core.frame.DataFrame'>\n",
            "Int64Index: 18000 entries, 0 to 17999\n",
            "Data columns (total 2 columns):\n",
            "file_name    18000 non-null object\n",
            "class        18000 non-null int64\n",
            "dtypes: int64(1), object(1)\n",
            "memory usage: 421.9+ KB\n"
          ],
          "name": "stdout"
        }
      ]
    },
    {
      "cell_type": "code",
      "metadata": {
        "id": "lRnhStFd3Oll",
        "colab_type": "code",
        "colab": {},
        "outputId": "3b0c145a-2eb0-4e04-b3e6-19f4c885a337"
      },
      "source": [
        "data.describe()"
      ],
      "execution_count": 0,
      "outputs": [
        {
          "output_type": "execute_result",
          "data": {
            "text/html": [
              "<div>\n",
              "<style scoped>\n",
              "    .dataframe tbody tr th:only-of-type {\n",
              "        vertical-align: middle;\n",
              "    }\n",
              "\n",
              "    .dataframe tbody tr th {\n",
              "        vertical-align: top;\n",
              "    }\n",
              "\n",
              "    .dataframe thead th {\n",
              "        text-align: right;\n",
              "    }\n",
              "</style>\n",
              "<table border=\"1\" class=\"dataframe\">\n",
              "  <thead>\n",
              "    <tr style=\"text-align: right;\">\n",
              "      <th></th>\n",
              "      <th>class</th>\n",
              "    </tr>\n",
              "  </thead>\n",
              "  <tbody>\n",
              "    <tr>\n",
              "      <th>count</th>\n",
              "      <td>18000.000000</td>\n",
              "    </tr>\n",
              "    <tr>\n",
              "      <th>mean</th>\n",
              "      <td>0.555556</td>\n",
              "    </tr>\n",
              "    <tr>\n",
              "      <th>std</th>\n",
              "      <td>0.496918</td>\n",
              "    </tr>\n",
              "    <tr>\n",
              "      <th>min</th>\n",
              "      <td>0.000000</td>\n",
              "    </tr>\n",
              "    <tr>\n",
              "      <th>25%</th>\n",
              "      <td>0.000000</td>\n",
              "    </tr>\n",
              "    <tr>\n",
              "      <th>50%</th>\n",
              "      <td>1.000000</td>\n",
              "    </tr>\n",
              "    <tr>\n",
              "      <th>75%</th>\n",
              "      <td>1.000000</td>\n",
              "    </tr>\n",
              "    <tr>\n",
              "      <th>max</th>\n",
              "      <td>1.000000</td>\n",
              "    </tr>\n",
              "  </tbody>\n",
              "</table>\n",
              "</div>"
            ],
            "text/plain": [
              "              class\n",
              "count  18000.000000\n",
              "mean       0.555556\n",
              "std        0.496918\n",
              "min        0.000000\n",
              "25%        0.000000\n",
              "50%        1.000000\n",
              "75%        1.000000\n",
              "max        1.000000"
            ]
          },
          "metadata": {
            "tags": []
          },
          "execution_count": 105
        }
      ]
    },
    {
      "cell_type": "code",
      "metadata": {
        "id": "h2aYkzUe3Ols",
        "colab_type": "code",
        "colab": {}
      },
      "source": [
        "data_folder = r'/Users/Udeshya Dixit\\Videos/Machine Learning/text_classification_project/negative'\n",
        "data['Script'] = [open(data_folder + os.sep + file,encoding=\"utf8\").read() for file in data['file_name']]\n"
      ],
      "execution_count": 0,
      "outputs": []
    },
    {
      "cell_type": "code",
      "metadata": {
        "scrolled": true,
        "id": "vKpe4gfx3Olx",
        "colab_type": "code",
        "colab": {},
        "outputId": "c6bad0a4-1dd2-46f5-d032-8d6976d47725"
      },
      "source": [
        "data.head()"
      ],
      "execution_count": 0,
      "outputs": [
        {
          "output_type": "execute_result",
          "data": {
            "text/html": [
              "<div>\n",
              "<style scoped>\n",
              "    .dataframe tbody tr th:only-of-type {\n",
              "        vertical-align: middle;\n",
              "    }\n",
              "\n",
              "    .dataframe tbody tr th {\n",
              "        vertical-align: top;\n",
              "    }\n",
              "\n",
              "    .dataframe thead th {\n",
              "        text-align: right;\n",
              "    }\n",
              "</style>\n",
              "<table border=\"1\" class=\"dataframe\">\n",
              "  <thead>\n",
              "    <tr style=\"text-align: right;\">\n",
              "      <th></th>\n",
              "      <th>file_name</th>\n",
              "      <th>class</th>\n",
              "      <th>Script</th>\n",
              "    </tr>\n",
              "  </thead>\n",
              "  <tbody>\n",
              "    <tr>\n",
              "      <th>0</th>\n",
              "      <td>0_9.txt</td>\n",
              "      <td>1</td>\n",
              "      <td>Bromwell High is a cartoon comedy. It ran at t...</td>\n",
              "    </tr>\n",
              "    <tr>\n",
              "      <th>1</th>\n",
              "      <td>10000_8.txt</td>\n",
              "      <td>1</td>\n",
              "      <td>Homelessness (or Houselessness as George Carli...</td>\n",
              "    </tr>\n",
              "    <tr>\n",
              "      <th>2</th>\n",
              "      <td>10002_7.txt</td>\n",
              "      <td>1</td>\n",
              "      <td>This is easily the most underrated film inn th...</td>\n",
              "    </tr>\n",
              "    <tr>\n",
              "      <th>3</th>\n",
              "      <td>10004_8.txt</td>\n",
              "      <td>1</td>\n",
              "      <td>This isn't the comedic Robin Williams, nor is ...</td>\n",
              "    </tr>\n",
              "    <tr>\n",
              "      <th>4</th>\n",
              "      <td>10005_7.txt</td>\n",
              "      <td>1</td>\n",
              "      <td>Yes its an art... to successfully make a slow ...</td>\n",
              "    </tr>\n",
              "  </tbody>\n",
              "</table>\n",
              "</div>"
            ],
            "text/plain": [
              "     file_name  class                                             Script\n",
              "0      0_9.txt      1  Bromwell High is a cartoon comedy. It ran at t...\n",
              "1  10000_8.txt      1  Homelessness (or Houselessness as George Carli...\n",
              "2  10002_7.txt      1  This is easily the most underrated film inn th...\n",
              "3  10004_8.txt      1  This isn't the comedic Robin Williams, nor is ...\n",
              "4  10005_7.txt      1  Yes its an art... to successfully make a slow ..."
            ]
          },
          "metadata": {
            "tags": []
          },
          "execution_count": 107
        }
      ]
    },
    {
      "cell_type": "code",
      "metadata": {
        "id": "eQdTaNHf3Ol3",
        "colab_type": "code",
        "colab": {},
        "outputId": "070b8791-d907-470d-94e3-1c518e6b0fd1"
      },
      "source": [
        "print(data.isnull().sum())"
      ],
      "execution_count": 0,
      "outputs": [
        {
          "output_type": "stream",
          "text": [
            "file_name    0\n",
            "class        0\n",
            "Script       0\n",
            "dtype: int64\n"
          ],
          "name": "stdout"
        }
      ]
    },
    {
      "cell_type": "code",
      "metadata": {
        "id": "KhMXCbza3Ol7",
        "colab_type": "code",
        "colab": {},
        "outputId": "95ecbeae-3a95-44d5-cf5f-34503ebf22b1"
      },
      "source": [
        "data['Script'][10000]"
      ],
      "execution_count": 0,
      "outputs": [
        {
          "output_type": "execute_result",
          "data": {
            "text/plain": [
              "\"Airport '77 starts as a brand new luxury 747 plane is loaded up with valuable paintings & such belonging to rich businessman Philip Stevens (James Stewart) who is flying them & a bunch of VIP's to his estate in preparation of it being opened to the public as a museum, also on board is Stevens daughter Julie (Kathleen Quinlan) & her son. The luxury jetliner takes off as planned but mid-air the plane is hi-jacked by the co-pilot Chambers (Robert Foxworth) & his two accomplice's Banker (Monte Markham) & Wilson (Michael Pataki) who knock the passengers & crew out with sleeping gas, they plan to steal the valuable cargo & land on a disused plane strip on an isolated island but while making his descent Chambers almost hits an oil rig in the Ocean & loses control of the plane sending it crashing into the sea where it sinks to the bottom right bang in the middle of the Bermuda Triangle. With air in short supply, water leaking in & having flown over 200 miles off course the problems mount for the survivor's as they await help with time fast running out...<br /><br />Also known under the slightly different tile Airport 1977 this second sequel to the smash-hit disaster thriller Airport (1970) was directed by Jerry Jameson & while once again like it's predecessors I can't say Airport '77 is any sort of forgotten classic it is entertaining although not necessarily for the right reasons. Out of the three Airport films I have seen so far I actually liked this one the best, just. It has my favourite plot of the three with a nice mid-air hi-jacking & then the crashing (didn't he see the oil rig?) & sinking of the 747 (maybe the makers were trying to cross the original Airport with another popular disaster flick of the period The Poseidon Adventure (1972)) & submerged is where it stays until the end with a stark dilemma facing those trapped inside, either suffocate when the air runs out or drown as the 747 floods or if any of the doors are opened & it's a decent idea that could have made for a great little disaster flick but bad unsympathetic character's, dull dialogue, lethargic set-pieces & a real lack of danger or suspense or tension means this is a missed opportunity. While the rather sluggish plot keeps one entertained for 108 odd minutes not that much happens after the plane sinks & there's not as much urgency as I thought there should have been. Even when the Navy become involved things don't pick up that much with a few shots of huge ships & helicopters flying about but there's just something lacking here. George Kennedy as the jinxed airline worker Joe Patroni is back but only gets a couple of scenes & barely even says anything preferring to just look worried in the background.<br /><br />The home video & theatrical version of Airport '77 run 108 minutes while the US TV versions add an extra hour of footage including a new opening credits sequence, many more scenes with George Kennedy as Patroni, flashbacks to flesh out character's, longer rescue scenes & the discovery or another couple of dead bodies including the navigator. While I would like to see this extra footage I am not sure I could sit through a near three hour cut of Airport '77. As expected the film has dated badly with horrible fashions & interior design choices, I will say no more other than the toy plane model effects aren't great either. Along with the other two Airport sequels this takes pride of place in the Razzie Award's Hall of Shame although I can think of lots of worse films than this so I reckon that's a little harsh. The action scenes are a little dull unfortunately, the pace is slow & not much excitement or tension is generated which is a shame as I reckon this could have been a pretty good film if made properly.<br /><br />The production values are alright if nothing spectacular. The acting isn't great, two time Oscar winner Jack Lemmon has said since it was a mistake to star in this, one time Oscar winner James Stewart looks old & frail, also one time Oscar winner Lee Grant looks drunk while Sir Christopher Lee is given little to do & there are plenty of other familiar faces to look out for too.<br /><br />Airport '77 is the most disaster orientated of the three Airport films so far & I liked the ideas behind it even if they were a bit silly, the production & bland direction doesn't help though & a film about a sunken plane just shouldn't be this boring or lethargic. Followed by The Concorde ... Airport '79 (1979).\""
            ]
          },
          "metadata": {
            "tags": []
          },
          "execution_count": 109
        }
      ]
    },
    {
      "cell_type": "code",
      "metadata": {
        "id": "wXbo5jP03Ol_",
        "colab_type": "code",
        "colab": {}
      },
      "source": [
        "b='lemon'\n",
        "for i in range(data.shape[0]):\n",
        "    a=data['Script'][i]\n",
        "    if type(a) is not type(b):\n",
        "        a=a.to_string()\n",
        "    a=a.split()\n",
        "    a=np.array(a)\n",
        "    l=len(a)\n",
        "    c=[]\n",
        "    for j in range(l):\n",
        "        k=len(a[j])>=3\n",
        "        c.append(k)\n",
        "    a=a[c]\n",
        "    x=\" \".join(a)\n",
        "    #a=[x]\n",
        "    data['Script'][i]=x\n",
        "                              \n"
      ],
      "execution_count": 0,
      "outputs": []
    },
    {
      "cell_type": "code",
      "metadata": {
        "id": "mDBr6fLw3OmF",
        "colab_type": "code",
        "colab": {}
      },
      "source": [
        "y=data['class']\n",
        "x=data['Script']\n",
        "from sklearn.model_selection import train_test_split\n",
        "x_train,x_test,y_train,y_test=train_test_split(x,y,train_size=0.8,stratify=y,random_state=100)\n",
        "x_train_left,x_test_cv,y_train_left,y_test_cv=train_test_split(x_train,y_train,stratify=y_train,train_size=0.8,random_state=50)"
      ],
      "execution_count": 0,
      "outputs": []
    },
    {
      "cell_type": "code",
      "metadata": {
        "id": "5v2vzN3k3OmM",
        "colab_type": "code",
        "colab": {}
      },
      "source": [
        "def diversity(data):\n",
        "    l=list(data)\n",
        "    result=[]\n",
        "    for i in range(len(l)):\n",
        "        if l[i]==0:\n",
        "            result.append(0)\n",
        "    percent0=len(result)/len(l)*100\n",
        "    length=len(result)\n",
        "    return length,percent0"
      ],
      "execution_count": 0,
      "outputs": []
    },
    {
      "cell_type": "code",
      "metadata": {
        "id": "1c2JGExF3OmQ",
        "colab_type": "code",
        "colab": {},
        "outputId": "24ac32c3-623c-4d26-d82c-4feb10062c97"
      },
      "source": [
        "diversity(y_train_left)"
      ],
      "execution_count": 0,
      "outputs": [
        {
          "output_type": "execute_result",
          "data": {
            "text/plain": [
              "(5120, 44.44444444444444)"
            ]
          },
          "metadata": {
            "tags": []
          },
          "execution_count": 114
        }
      ]
    },
    {
      "cell_type": "code",
      "metadata": {
        "id": "RpIvoela3OmU",
        "colab_type": "code",
        "colab": {},
        "outputId": "fe68c9f6-843b-4130-a8de-c05dfc75f98c"
      },
      "source": [
        "diversity(y_test)"
      ],
      "execution_count": 0,
      "outputs": [
        {
          "output_type": "execute_result",
          "data": {
            "text/plain": [
              "(1600, 44.44444444444444)"
            ]
          },
          "metadata": {
            "tags": []
          },
          "execution_count": 115
        }
      ]
    },
    {
      "cell_type": "code",
      "metadata": {
        "id": "JjvFNYVI3OmZ",
        "colab_type": "code",
        "colab": {},
        "outputId": "49cb4297-571c-4df5-d67b-d5341e57364e"
      },
      "source": [
        "diversity(y_test_cv)"
      ],
      "execution_count": 0,
      "outputs": [
        {
          "output_type": "execute_result",
          "data": {
            "text/plain": [
              "(1280, 44.44444444444444)"
            ]
          },
          "metadata": {
            "tags": []
          },
          "execution_count": 116
        }
      ]
    },
    {
      "cell_type": "code",
      "metadata": {
        "id": "iWMBXqsJ3Omd",
        "colab_type": "code",
        "colab": {}
      },
      "source": [
        "from sklearn.feature_extraction.text import CountVectorizer\n",
        "vec=CountVectorizer(stop_words='english')\n",
        "x_train_transformed=vec.fit_transform(x_train_left)\n",
        "x_cv_transformed=vec.transform(x_test_cv)\n",
        "x_test_transformed=vec.transform(x_test)"
      ],
      "execution_count": 0,
      "outputs": []
    },
    {
      "cell_type": "code",
      "metadata": {
        "id": "OIhRJoR-3Omg",
        "colab_type": "code",
        "colab": {},
        "outputId": "63e7f322-995d-469b-fa61-e08c9470cb26"
      },
      "source": [
        "print(x_train_transformed.shape,x_cv_transformed.shape,x_test_transformed.shape)"
      ],
      "execution_count": 0,
      "outputs": [
        {
          "output_type": "stream",
          "text": [
            "(11520, 54465) (2880, 54465) (3600, 54465)\n"
          ],
          "name": "stdout"
        }
      ]
    },
    {
      "cell_type": "code",
      "metadata": {
        "id": "TT5M2TZR3Omo",
        "colab_type": "code",
        "colab": {},
        "outputId": "7ff5a34d-5b7a-430d-a24e-771b84eb4d37"
      },
      "source": [
        "#using naive_bayes\n",
        "\n",
        "a=[10**x for x in range(-5,1)]\n",
        "for i in a:\n",
        "    mnb=MultinomialNB(alpha=i)\n",
        "    mnb.fit(x_train_transformed,y_train_left)\n",
        "    y_predict=mnb.predict(x_cv_transformed)\n",
        "    print('for alpha=',i,'accuracy=',accuracy_score(y_test_cv,y_predict))\n",
        "    "
      ],
      "execution_count": 0,
      "outputs": [
        {
          "output_type": "stream",
          "text": [
            "for alpha= 1e-05 accuracy= 0.8048611111111111\n",
            "for alpha= 0.0001 accuracy= 0.8149305555555556\n",
            "for alpha= 0.001 accuracy= 0.8256944444444444\n",
            "for alpha= 0.01 accuracy= 0.840625\n",
            "for alpha= 0.1 accuracy= 0.8552083333333333\n",
            "for alpha= 1 accuracy= 0.8607638888888889\n"
          ],
          "name": "stdout"
        }
      ]
    },
    {
      "cell_type": "code",
      "metadata": {
        "id": "cz2B6ch33Oms",
        "colab_type": "code",
        "colab": {},
        "outputId": "c1a9dd06-f0c0-4565-bcb1-04d5f1ad79b3"
      },
      "source": [
        "#testing for overfitting on best alpha\n",
        "mnb=MultinomialNB(alpha=1)\n",
        "mnb.fit(x_train_transformed,y_train_left)\n",
        "\n",
        "y_predict_train=mnb.predict(x_train_transformed)\n",
        "print('accuracy on training set for best alpha=',accuracy_score(y_train_left,y_predict_train))\n",
        "\n",
        "y_predict_cv=mnb.predict(x_cv_transformed)\n",
        "print('accuracy on CV set for best alpha=',accuracy_score(y_test_cv,y_predict_cv))\n",
        "\n",
        "y_predict_test=mnb.predict(x_test_transformed)\n",
        "print('accuracy on test set for best alpha=',accuracy_score(y_test,y_predict_test))\n"
      ],
      "execution_count": 0,
      "outputs": [
        {
          "output_type": "stream",
          "text": [
            "accuracy on training set for best alpha= 0.9321180555555556\n",
            "accuracy on CV set for best alpha= 0.8607638888888889\n",
            "accuracy on test set for best alpha= 0.8619444444444444\n"
          ],
          "name": "stdout"
        }
      ]
    },
    {
      "cell_type": "code",
      "metadata": {
        "id": "8UbV0_Nm3Omx",
        "colab_type": "code",
        "colab": {},
        "outputId": "c4a8431f-7106-48de-d658-b2e13bd95444"
      },
      "source": [
        "#using SVM\n",
        "a=[10**x for x in range(-5,1)]\n",
        "for i in a:\n",
        "    sgd=SGDClassifier(penalty='l2',loss='hinge',alpha=i,class_weight='balanced')\n",
        "    sgd.fit(x_train_transformed,y_train_left)\n",
        "    y1_predict=sgd.predict(x_cv_transformed)\n",
        "    print('for alpha=',i,'accuracy=',accuracy_score(y_test_cv,y1_predict))"
      ],
      "execution_count": 0,
      "outputs": [
        {
          "output_type": "stream",
          "text": [
            "for alpha= 1e-05 accuracy= 0.8597222222222223\n",
            "for alpha= 0.0001 accuracy= 0.8635416666666667\n",
            "for alpha= 0.001 accuracy= 0.8659722222222223\n",
            "for alpha= 0.01 accuracy= 0.8739583333333333\n",
            "for alpha= 0.1 accuracy= 0.853125\n",
            "for alpha= 1 accuracy= 0.7513888888888889\n"
          ],
          "name": "stdout"
        }
      ]
    },
    {
      "cell_type": "code",
      "metadata": {
        "id": "onu6Urb03Om2",
        "colab_type": "code",
        "colab": {},
        "outputId": "8a1ae290-1291-4c02-b6cc-7d4090d2c606"
      },
      "source": [
        "#testing for overfitting on best alpha\n",
        "sgd=SGDClassifier(penalty='l2',loss='hinge',alpha=.01,class_weight='balanced')\n",
        "sgd.fit(x_train_transformed,y_train_left)\n",
        "\n",
        "y1_predict_train=sgd.predict(x_train_transformed)\n",
        "print('accuracy on training set for best alpha=',accuracy_score(y_train_left,y1_predict_train))\n",
        "\n",
        "y1_predict_cv=sgd.predict(x_cv_transformed)\n",
        "print('accuracy on CV set for best alpha=',accuracy_score(y_test_cv,y1_predict_cv))\n",
        "\n",
        "y1_predict_test=sgd.predict(x_test_transformed)\n",
        "print('accuracy on test set for best alpha=',accuracy_score(y_test,y1_predict_test))\n"
      ],
      "execution_count": 0,
      "outputs": [
        {
          "output_type": "stream",
          "text": [
            "accuracy on training set for best alpha= 0.9497395833333333\n",
            "accuracy on CV set for best alpha= 0.8788194444444445\n",
            "accuracy on test set for best alpha= 0.885\n"
          ],
          "name": "stdout"
        }
      ]
    },
    {
      "cell_type": "code",
      "metadata": {
        "id": "Tm2c-jPc3Om6",
        "colab_type": "code",
        "colab": {},
        "outputId": "0e926ba6-0d28-4a5b-bf8b-261bd038bae3"
      },
      "source": [
        "#using logistic regression\n",
        "a=[10**x for x in range(-5,1)]\n",
        "for i in a:\n",
        "    sgd1=SGDClassifier(penalty='l2',loss='log',alpha=i,class_weight='balanced')\n",
        "    sgd1.fit(x_train_transformed,y_train_left)\n",
        "    y2_predict=sgd1.predict(x_cv_transformed)\n",
        "    print('for alpha=',i,'accuracy=',accuracy_score(y_test_cv,y2_predict))"
      ],
      "execution_count": 0,
      "outputs": [
        {
          "output_type": "stream",
          "text": [
            "for alpha= 1e-05 accuracy= 0.8652777777777778\n",
            "for alpha= 0.0001 accuracy= 0.86875\n",
            "for alpha= 0.001 accuracy= 0.8722222222222222\n",
            "for alpha= 0.01 accuracy= 0.8611111111111112\n",
            "for alpha= 0.1 accuracy= 0.8295138888888889\n",
            "for alpha= 1 accuracy= 0.7454861111111111\n"
          ],
          "name": "stdout"
        }
      ]
    },
    {
      "cell_type": "code",
      "metadata": {
        "id": "_9HbPKKQ3Om-",
        "colab_type": "code",
        "colab": {},
        "outputId": "eca3f31c-9ed8-45f6-c851-bff2adb9a33b"
      },
      "source": [
        "#testing for overfitting on best alpha\n",
        "sgd1=SGDClassifier(penalty='l2',loss='hinge',alpha=.001,class_weight='balanced')\n",
        "sgd1.fit(x_train_transformed,y_train_left)\n",
        "\n",
        "y2_predict_train=sgd1.predict(x_train_transformed)\n",
        "print('accuracy on training set for best alpha=',accuracy_score(y_train_left,y2_predict_train))\n",
        "\n",
        "y2_predict_cv=sgd1.predict(x_cv_transformed)\n",
        "print('accuracy on CV set for best alpha=',accuracy_score(y_test_cv,y2_predict_cv))\n",
        "\n",
        "y2_predict_test=sgd1.predict(x_test_transformed)\n",
        "print('accuracy on test set for best alpha=',accuracy_score(y_test,y2_predict_test))"
      ],
      "execution_count": 0,
      "outputs": [
        {
          "output_type": "stream",
          "text": [
            "accuracy on training set for best alpha= 0.9952256944444444\n",
            "accuracy on CV set for best alpha= 0.8694444444444445\n",
            "accuracy on test set for best alpha= 0.8708333333333333\n"
          ],
          "name": "stdout"
        }
      ]
    }
  ]
}